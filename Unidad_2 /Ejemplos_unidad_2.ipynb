{
  "nbformat": 4,
  "nbformat_minor": 0,
  "metadata": {
    "colab": {
      "provenance": [],
      "authorship_tag": "ABX9TyPzR5LamYiq0/MKJZjJnGXD",
      "include_colab_link": true
    },
    "kernelspec": {
      "name": "python3",
      "display_name": "Python 3"
    },
    "language_info": {
      "name": "python"
    }
  },
  "cells": [
    {
      "cell_type": "markdown",
      "metadata": {
        "id": "view-in-github",
        "colab_type": "text"
      },
      "source": [
        "<a href=\"https://colab.research.google.com/github/vshalisko/PythonIntro/blob/main/Unidad_2%20/Ejemplos_unidad_2.ipynb\" target=\"_parent\"><img src=\"https://colab.research.google.com/assets/colab-badge.svg\" alt=\"Open In Colab\"/></a>"
      ]
    },
    {
      "cell_type": "markdown",
      "source": [
        "### Ejemplo de expresiones con operadores aritméticos"
      ],
      "metadata": {
        "id": "G7wOijps7CS2"
      }
    },
    {
      "cell_type": "code",
      "execution_count": 18,
      "metadata": {
        "colab": {
          "base_uri": "https://localhost:8080/"
        },
        "id": "AUCtU8y0CSYf",
        "outputId": "ba42ae4e-0ff9-4f32-c8f6-f210a62a2ebf"
      },
      "outputs": [
        {
          "output_type": "stream",
          "name": "stdout",
          "text": [
            "¿Cual es el precio por cuarto? 5709.30\n",
            "¿Cuantos huespedes?5\n",
            "Precio total del cuarto: 6622.79 pesos, cada \"huesped\" pagará: 1324.56 pesos\n"
          ]
        }
      ],
      "source": [
        "precio_de_cuarto = float(input(\"¿Cual es el precio por cuarto? \"))\n",
        "numero_huespedes = int(input(\"¿Cuantos huespedes? \"))\n",
        "porcentaje_impuesto = 16\n",
        "\n",
        "impuesto = precio_de_cuarto * porcentaje_impuesto / 100\n",
        "total = round(precio_de_cuarto + impuesto, 2)\n",
        "precio_por_huesped = round(total / numero_huespedes, 2)\n",
        "\n",
        "print(\"Precio total del cuarto: \" + str(total) + \" pesos, cada \\\"huesped\\\" pagará: \" + str(precio_por_huesped) + \" pesos\")\n",
        "\n"
      ]
    },
    {
      "cell_type": "markdown",
      "source": [
        "## Ejemplo de una funcion definida por el usuario"
      ],
      "metadata": {
        "id": "XiC02yQDP7NJ"
      }
    },
    {
      "cell_type": "code",
      "source": [
        "def t_convert(t):\n",
        "  # la formula para calculo es F = C * 9/5 + 32\n",
        "  resultado = t * 9 / 5 + 32\n",
        "  return resultado\n",
        "\n",
        "print(t_convert(float(input(\"Escribe T en Celsius: \"))))\n",
        "\n"
      ],
      "metadata": {
        "colab": {
          "base_uri": "https://localhost:8080/"
        },
        "id": "G4rM_OWnNfsp",
        "outputId": "8a2c448a-3099-4239-b8bf-e5add60ab6dc"
      },
      "execution_count": 22,
      "outputs": [
        {
          "output_type": "stream",
          "name": "stdout",
          "text": [
            "Escribe T en Celsius: -32\n",
            "-25.6\n"
          ]
        }
      ]
    },
    {
      "cell_type": "markdown",
      "source": [
        "### Ejemplos del bloque **if - elif - else**\n"
      ],
      "metadata": {
        "id": "NDbtUriO77hy"
      }
    },
    {
      "cell_type": "code",
      "source": [
        "numero_patas = int(input(\"¿Cuántas patas tiene el animal? \"))\n",
        "\n",
        "# Responde según el número de patas.\n",
        "if numero_patas == 6:\n",
        "  print(\"¡Ese es un insecto!\")\n",
        "elif numero_patas == 8:\n",
        "  print(\"¡Esa es una araña!\")\n",
        "elif numero_patas == 4:\n",
        "  print(\"Podría ser un caballo u otro mamífero de cuatro patas.\")\n",
        "elif numero_patas == 2:\n",
        "  print(\"¡Ese es un ave!\")\n",
        "else:\n",
        "  print(\"No sé qué animal es con esa cantidad de patas.\")"
      ],
      "metadata": {
        "colab": {
          "base_uri": "https://localhost:8080/"
        },
        "id": "cZe_NINs8IYV",
        "outputId": "3d66169c-827e-4a13-8854-eff5d21d5b88"
      },
      "execution_count": 4,
      "outputs": [
        {
          "output_type": "stream",
          "name": "stdout",
          "text": [
            "¿Cuántas patas tiene el animal? 6\n",
            "¡Ese es un insecto!\n"
          ]
        }
      ]
    },
    {
      "cell_type": "code",
      "source": [
        "def verificar_nombre(username):\n",
        "    if len(username) < 3:\n",
        "        print(\"Nombre de usuario incorrecto. Debe tener por lo menos 3 símbolos.\")\n",
        "    elif len(username) > 15:\n",
        "        print(\"Nombre de usuario incorrecto. Debe tener como máximo 15 símbolos.\")\n",
        "    else:\n",
        "        print(\"Nombre de usuario correcto.\")\n",
        "\n",
        "verificar_nombre(\"Iv\")\n",
        "verificar_nombre(\"Ivan\")\n",
        "verificar_nombre(\"Tlahuizcalpantecuhtli\")"
      ],
      "metadata": {
        "colab": {
          "base_uri": "https://localhost:8080/"
        },
        "id": "1DQNdqjU8OIe",
        "outputId": "09ecb321-f246-4ea8-a3a3-00f27a24bfc0"
      },
      "execution_count": 5,
      "outputs": [
        {
          "output_type": "stream",
          "name": "stdout",
          "text": [
            "Nombre de usuario incorrecto. Debe tener por lo menos 3 símbolos.\n",
            "Nombre de usuario correcto.\n",
            "Nombre de usuario incorrecto. Debe tener como máximo 15 símbolos.\n"
          ]
        }
      ]
    },
    {
      "cell_type": "markdown",
      "source": [
        "### Ejemplos del bucle **while**"
      ],
      "metadata": {
        "id": "t8_Wow2c7UQl"
      }
    },
    {
      "cell_type": "code",
      "source": [
        "contador = 0\n",
        "while contador < 6:\n",
        "    print(contador)\n",
        "    contador += 1"
      ],
      "metadata": {
        "colab": {
          "base_uri": "https://localhost:8080/"
        },
        "id": "PLa2gzKi8VGd",
        "outputId": "db28880c-af25-4a2c-dd3b-60169e7c6ad0"
      },
      "execution_count": 7,
      "outputs": [
        {
          "output_type": "stream",
          "name": "stdout",
          "text": [
            "0\n",
            "1\n",
            "2\n",
            "3\n",
            "4\n",
            "5\n"
          ]
        }
      ]
    },
    {
      "cell_type": "code",
      "source": [
        "resultado = 100\n",
        "while resultado > 3:\n",
        "    print(resultado)\n",
        "    resultado = resultado / 2"
      ],
      "metadata": {
        "colab": {
          "base_uri": "https://localhost:8080/"
        },
        "id": "fGvt8wZV7Tuu",
        "outputId": "9b058683-e2f7-42fb-a157-9b4505eb03b0"
      },
      "execution_count": 6,
      "outputs": [
        {
          "output_type": "stream",
          "name": "stdout",
          "text": [
            "100\n",
            "50.0\n",
            "25.0\n",
            "12.5\n",
            "6.25\n",
            "3.125\n"
          ]
        }
      ]
    },
    {
      "cell_type": "code",
      "source": [
        "while True:\n",
        "  print(\"Adivina mi ciudad\")\n",
        "  ciudad = str(input(\"Mi ciudad es: \"))\n",
        "  if ciudad == \"Guadalajara\":\n",
        "    print(\"¡Adivinaste!\")\n",
        "    break\n",
        "  print(\"¡No adivinaste! Intenta de nuevo\")"
      ],
      "metadata": {
        "colab": {
          "base_uri": "https://localhost:8080/"
        },
        "id": "Wmjc8p-s8Znh",
        "outputId": "24cd0822-b3a1-41fb-e8b4-57d05a0022a1"
      },
      "execution_count": 8,
      "outputs": [
        {
          "output_type": "stream",
          "name": "stdout",
          "text": [
            "Adivina mi ciudad\n",
            "Mi ciudad es: México\n",
            "¡No adivinaste! Intenta de nuevo\n",
            "Adivina mi ciudad\n",
            "Mi ciudad es: Guanajuato\n",
            "¡No adivinaste! Intenta de nuevo\n",
            "Adivina mi ciudad\n",
            "Mi ciudad es: Guadalajara\n",
            "¡Adivinaste!\n"
          ]
        }
      ]
    },
    {
      "cell_type": "markdown",
      "source": [
        "### Ejemplos del bucle **for**"
      ],
      "metadata": {
        "id": "jQb7Y9p27SYz"
      }
    },
    {
      "cell_type": "code",
      "source": [
        "mi_lista = [\"A\", \"B\",\"Ivan\", \"CUCBA\"]\n",
        "\n",
        "for i in mi_lista:\n",
        "  print(\"Elemento: \" + i)"
      ],
      "metadata": {
        "colab": {
          "base_uri": "https://localhost:8080/"
        },
        "id": "CZmb7XmS6oMJ",
        "outputId": "00a1e2fa-5f20-4962-f871-cd54d7b83eb6"
      },
      "execution_count": 2,
      "outputs": [
        {
          "output_type": "stream",
          "name": "stdout",
          "text": [
            "Elemento: A\n",
            "Elemento: B\n",
            "Elemento: Ivan\n",
            "Elemento: CUCBA\n"
          ]
        }
      ]
    },
    {
      "cell_type": "code",
      "source": [
        "\n",
        "mi_cadena = \"Me gusta dormir\"\n",
        "\n",
        "for i in mi_cadena:\n",
        "  print(\"Letra: \" + i)"
      ],
      "metadata": {
        "colab": {
          "base_uri": "https://localhost:8080/"
        },
        "id": "PnqMzNMBfgI3",
        "outputId": "078e921e-b977-4c31-b0db-bd89f13da3f1"
      },
      "execution_count": 3,
      "outputs": [
        {
          "output_type": "stream",
          "name": "stdout",
          "text": [
            "Letra: M\n",
            "Letra: e\n",
            "Letra:  \n",
            "Letra: g\n",
            "Letra: u\n",
            "Letra: s\n",
            "Letra: t\n",
            "Letra: a\n",
            "Letra:  \n",
            "Letra: d\n",
            "Letra: o\n",
            "Letra: r\n",
            "Letra: m\n",
            "Letra: i\n",
            "Letra: r\n"
          ]
        }
      ]
    }
  ]
}