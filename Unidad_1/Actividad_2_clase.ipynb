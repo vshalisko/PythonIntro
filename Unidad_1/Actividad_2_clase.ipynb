{
  "nbformat": 4,
  "nbformat_minor": 0,
  "metadata": {
    "colab": {
      "provenance": [],
      "authorship_tag": "ABX9TyPey4E9oj62M4g8ZBOixdI7",
      "include_colab_link": true
    },
    "kernelspec": {
      "name": "python3",
      "display_name": "Python 3"
    },
    "language_info": {
      "name": "python"
    }
  },
  "cells": [
    {
      "cell_type": "markdown",
      "metadata": {
        "id": "view-in-github",
        "colab_type": "text"
      },
      "source": [
        "<a href=\"https://colab.research.google.com/github/vshalisko/PythonIntro/blob/main/Unidad_1/Actividad_2_clase.ipynb\" target=\"_parent\"><img src=\"https://colab.research.google.com/assets/colab-badge.svg\" alt=\"Open In Colab\"/></a>"
      ]
    },
    {
      "cell_type": "markdown",
      "source": [
        "Viacheslav Shalisko"
      ],
      "metadata": {
        "id": "JYS_Gf5kCYfz"
      }
    },
    {
      "cell_type": "code",
      "execution_count": 1,
      "metadata": {
        "colab": {
          "base_uri": "https://localhost:8080/"
        },
        "id": "IPhsqPKwAqS5",
        "outputId": "92bff5a5-acfb-47ab-b60e-3b89ad8275f3"
      },
      "outputs": [
        {
          "output_type": "stream",
          "name": "stdout",
          "text": [
            "Mounted at /content/drive\n"
          ]
        }
      ],
      "source": [
        "from google.colab import drive\n",
        "drive.mount('/content/drive')"
      ]
    },
    {
      "cell_type": "code",
      "source": [
        "nombre_archivo = \"Mi_ejemplo_de_texto.txt\"\n",
        "ruta = \"/content/drive/MyDrive/Colab Data/\"\n",
        "\n",
        "with open(ruta + nombre_archivo, 'r') as f:\n",
        "    contenido = f.read()\n",
        "    print(contenido)"
      ],
      "metadata": {
        "colab": {
          "base_uri": "https://localhost:8080/"
        },
        "id": "ZNeqnA-OHEue",
        "outputId": "ff0ee982-d035-4b44-964a-e1601b4cb7f5"
      },
      "execution_count": 2,
      "outputs": [
        {
          "output_type": "stream",
          "name": "stdout",
          "text": [
            "¡Bienvenidos al curso de Python!\n",
            "Espero que me va a ir bien en las próximas semanas.\n"
          ]
        }
      ]
    }
  ]
}