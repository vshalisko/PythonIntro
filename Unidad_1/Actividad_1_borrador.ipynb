{
  "nbformat": 4,
  "nbformat_minor": 0,
  "metadata": {
    "colab": {
      "provenance": [],
      "authorship_tag": "ABX9TyP/er8ffUcqwj3D59GzUcmW",
      "include_colab_link": true
    },
    "kernelspec": {
      "name": "python3",
      "display_name": "Python 3"
    },
    "language_info": {
      "name": "python"
    }
  },
  "cells": [
    {
      "cell_type": "markdown",
      "metadata": {
        "id": "view-in-github",
        "colab_type": "text"
      },
      "source": [
        "<a href=\"https://colab.research.google.com/github/vshalisko/PythonIntro/blob/main/Unidad_1/Actividad_1_borrador.ipynb\" target=\"_parent\"><img src=\"https://colab.research.google.com/assets/colab-badge.svg\" alt=\"Open In Colab\"/></a>"
      ]
    },
    {
      "cell_type": "markdown",
      "source": [
        "##### Curso: **Análisis y visualización de datos con Python en la nube**\n",
        "## Actividad 1.\n",
        "#### Viacheslav Shalisko.\n",
        "* Campus: CUCBA\n",
        "* Fecha: 2 de septiembre 2025"
      ],
      "metadata": {
        "id": "yZF7lIHYP6O1"
      }
    },
    {
      "cell_type": "code",
      "source": [
        "import datetime\n",
        "\n",
        "# Hora (Tiempo universal coordinado, UTC) y fecha\n",
        "now = datetime.datetime.now()\n",
        "print(f\"Fecha y hora (UTC): {now.strftime('%Y-%m-%d %H:%M')}\")"
      ],
      "metadata": {
        "colab": {
          "base_uri": "https://localhost:8080/"
        },
        "id": "eD0jMtt1Qo0e",
        "outputId": "24f6590e-911c-44d7-fd08-91a4b63fd23e"
      },
      "execution_count": 4,
      "outputs": [
        {
          "output_type": "stream",
          "name": "stdout",
          "text": [
            "Fecha y hora (UTC): 2025-09-09 23:48\n"
          ]
        }
      ]
    },
    {
      "cell_type": "markdown",
      "source": [
        "Respuesta a la pregunta:  *¿Cual es su opinión sobre el potencial de uso de Python en su trabajo académico o en la investigación?*\n",
        "\n",
        "Python puede ser util para mi investigación para realizar el tratamiento de datos de los registros de biodiversidad, secuencias genéticas y todo la información cuantitativa que puedo tener en mis proyectos."
      ],
      "metadata": {
        "id": "ei_fsnrmQYs0"
      }
    },
    {
      "cell_type": "code",
      "source": [
        "\n",
        "import sys\n",
        "import platform\n",
        "\n",
        "# Versión de Python\n",
        "print(f\"Versión de Python: {sys.version}\")\n",
        "\n",
        "# Parámetros del entorno de ejecución (ejemplo con algunas variables de entorno)\n",
        "print(\"\\nParámetros del entorno de ejecución:\")\n",
        "print(f\"Sistema Operativo: {platform.system()}\")\n",
        "print(f\"Nombre del nodo: {platform.node()}\")\n",
        "print(f\"Arquitectura: {platform.architecture()}\")\n",
        "print(f\"Procesador: {platform.processor()}\")"
      ],
      "metadata": {
        "colab": {
          "base_uri": "https://localhost:8080/"
        },
        "id": "AL2eBy_zO8CH",
        "outputId": "52df942d-bf8e-4087-bf92-783bfe32daa4"
      },
      "execution_count": 5,
      "outputs": [
        {
          "output_type": "stream",
          "name": "stdout",
          "text": [
            "Versión de Python: 3.12.11 (main, Jun  4 2025, 08:56:18) [GCC 11.4.0]\n",
            "\n",
            "Parámetros del entorno de ejecución:\n",
            "Sistema Operativo: Linux\n",
            "Nombre del nodo: 15b0a9c8af25\n",
            "Arquitectura: ('64bit', 'ELF')\n",
            "Procesador: x86_64\n"
          ]
        }
      ]
    }
  ]
}