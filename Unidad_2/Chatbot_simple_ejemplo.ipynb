{
  "nbformat": 4,
  "nbformat_minor": 0,
  "metadata": {
    "colab": {
      "provenance": [],
      "authorship_tag": "ABX9TyNoegoCrE6nhPx8A4F+rgP4",
      "include_colab_link": true
    },
    "kernelspec": {
      "name": "python3",
      "display_name": "Python 3"
    },
    "language_info": {
      "name": "python"
    }
  },
  "cells": [
    {
      "cell_type": "markdown",
      "metadata": {
        "id": "view-in-github",
        "colab_type": "text"
      },
      "source": [
        "<a href=\"https://colab.research.google.com/github/vshalisko/PythonIntro/blob/main/Unidad_2/Chatbot_simple_ejemplo.ipynb\" target=\"_parent\"><img src=\"https://colab.research.google.com/assets/colab-badge.svg\" alt=\"Open In Colab\"/></a>"
      ]
    },
    {
      "cell_type": "markdown",
      "source": [
        "### ¿Que tan facil es crear un Chatbot con Python?\n",
        "\n",
        "> It will take exactly 4 months, 3 weeks, 2 days, 1 hour, 46 minutes and 15 seconds to learn everything you need to know to build a simple chatbot. (opinión de un usuario de Reddit) https://www.reddit.com/r/learnpython/comments/1dc80lz/making_simple_chatbot/\n",
        "\n",
        "### Respuesta: Depende del tipo de Chatbot\n",
        "\n"
      ],
      "metadata": {
        "id": "odXzBYuNuISA"
      }
    },
    {
      "cell_type": "markdown",
      "source": [
        "Vamos a crear un Chatbot simple inspirado en código en un proyecto introductorio de Hyperskill\n",
        "* https://hyperskill.org/projects/97\n",
        "\n",
        "Soluciones:\n",
        "* https://github.com/syyynth/hyperskill/tree/main/python/0097%20-%20Simple%20Chatty%20Bot%20(Python)\n",
        "* https://github.com/Mathesh099/Simple-Chatty-Bot\n",
        "\n",
        "\n"
      ],
      "metadata": {
        "id": "y3DFJx5BuO5x"
      }
    },
    {
      "cell_type": "markdown",
      "source": [
        "## Etapa básica del proyecto\n",
        "### Los elementos incluidos en siguientes apartados son obligatorios para entrega de la tarea"
      ],
      "metadata": {
        "id": "ligaHTpZP4Jw"
      }
    },
    {
      "cell_type": "markdown",
      "source": [
        "### Vamos a saludar el usuario\n",
        "\n",
        "Para realizar este apartado se requiere usar las funciones `print()`, `input()`, `str()`, además, se requiere conocer la operación para concatenar las cadenas de texto."
      ],
      "metadata": {
        "id": "_wI4EOtGQ7Kh"
      }
    },
    {
      "cell_type": "code",
      "source": [
        "print('¡Hola! Soy un ChatBot.')\n",
        "print('Me crearon en 2025 como parte de un ejercicio.')\n",
        "print('¿Y tu nombre cual es?.')\n",
        "nombre_usuario = str(input())\n",
        "print('¡Me encanta tu nombre, ' + nombre_usuario + \"!\")"
      ],
      "metadata": {
        "colab": {
          "base_uri": "https://localhost:8080/"
        },
        "id": "mrRx_wGKQF-u",
        "outputId": "376db97b-8fc8-40ce-b80c-63679c806e4c"
      },
      "execution_count": 1,
      "outputs": [
        {
          "output_type": "stream",
          "name": "stdout",
          "text": [
            "¡Hola! Soy un ChatBot.\n",
            "Me crearon en 2025 como parte de un ejercicio.\n",
            "¿Y tu nombre cual es?.\n",
            "Slava\n",
            "¡Me encanta tu nombre, Slava!\n"
          ]
        }
      ]
    },
    {
      "cell_type": "markdown",
      "source": [
        "### Ahora vamos a adivinar edad del usuario. Para esto le vamos a hacer algunas preguntas\n",
        "\n",
        "Para realizar este apartado se requiere usar las funciones `print()`, `input()`, `int()`, se requiere conocer las operación matematicas con los números enteros, incluyendo el operador  módulo `%` que permite calcular el remanente de la división. Además, se requiere conocer como podemos definir una función y llamarla."
      ],
      "metadata": {
        "id": "cE4WtHWERAYy"
      }
    },
    {
      "cell_type": "code",
      "source": [
        "def adivinar_edad():\n",
        "    print('Me gustaria adivinar tu edad, ' + nombre_usuario + '.')\n",
        "    print('Para esto voy a hacer tres preguntas.')\n",
        "\n",
        "    rem3 = int(input('¿Cual es el remanente de división de tu edad en 3?\\n'))\n",
        "    rem5 = int(input('¿Cual es el remanente de división de tu edad en 5?\\n'))\n",
        "    rem7 = int(input('¿Cual es el remanente de división de tu edad en 7?\\n'))\n",
        "    age = (rem3 * 70 + rem5 * 21 + rem7 * 15) % 105\n",
        "\n",
        "    print(\"Creo que tu edad es \" + str(age) + \". ¡Es un momento maravilloso para estudiar Python!\")\n",
        "\n",
        "adivinar_edad()"
      ],
      "metadata": {
        "colab": {
          "base_uri": "https://localhost:8080/"
        },
        "id": "khfmTEIgRMOv",
        "outputId": "f805cb6c-c617-4c6d-e5ff-8fd8d75fd4b3"
      },
      "execution_count": 3,
      "outputs": [
        {
          "output_type": "stream",
          "name": "stdout",
          "text": [
            "Me gustaria adivinar tu edad, Slava.\n",
            "Para esto voy a hacer tres preguntas.\n",
            "¿Cual es el remanente de división de tu edad en 3?\n",
            "2\n",
            "¿Cual es el remanente de división de tu edad en 5?\n",
            "1\n",
            "¿Cual es el remanente de división de tu edad en 7?\n",
            "4\n",
            "Creo que tu edad es 11. ¡Es un momento maravilloso para estudiar Python!\n"
          ]
        }
      ]
    },
    {
      "cell_type": "markdown",
      "source": [
        "### Es hora de despedir"
      ],
      "metadata": {
        "id": "fuAe4uykraZp"
      }
    },
    {
      "cell_type": "code",
      "source": [
        "print('Hasta la proxima, ' + nombre_usuario + '!')"
      ],
      "metadata": {
        "colab": {
          "base_uri": "https://localhost:8080/"
        },
        "id": "lL3kU1JIrfyf",
        "outputId": "24f6bd47-48a2-4ad3-bb1d-5236c9db8fca"
      },
      "execution_count": 4,
      "outputs": [
        {
          "output_type": "stream",
          "name": "stdout",
          "text": [
            "Hasta la proxima, Slava!\n"
          ]
        }
      ]
    }
  ]
}