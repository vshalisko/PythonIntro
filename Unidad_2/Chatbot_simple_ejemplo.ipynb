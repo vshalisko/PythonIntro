{
  "nbformat": 4,
  "nbformat_minor": 0,
  "metadata": {
    "colab": {
      "provenance": [],
      "authorship_tag": "ABX9TyPJIhOjYGWv+Wt3QtxHhQ/o",
      "include_colab_link": true
    },
    "kernelspec": {
      "name": "python3",
      "display_name": "Python 3"
    },
    "language_info": {
      "name": "python"
    }
  },
  "cells": [
    {
      "cell_type": "markdown",
      "metadata": {
        "id": "view-in-github",
        "colab_type": "text"
      },
      "source": [
        "<a href=\"https://colab.research.google.com/github/vshalisko/PythonIntro/blob/main/Unidad_2/Chatbot_simple_ejemplo.ipynb\" target=\"_parent\"><img src=\"https://colab.research.google.com/assets/colab-badge.svg\" alt=\"Open In Colab\"/></a>"
      ]
    },
    {
      "cell_type": "markdown",
      "source": [
        "### ¿Que tan facil es crear un Chatbot con Python?\n",
        "\n",
        "> It will take exactly 4 months, 3 weeks, 2 days, 1 hour, 46 minutes and 15 seconds to learn everything you need to know to build a simple chatbot. (opinión de un usuario de Reddit) https://www.reddit.com/r/learnpython/comments/1dc80lz/making_simple_chatbot/\n",
        "\n",
        "### Respuesta: Depende del tipo de Chatbot\n",
        "\n"
      ],
      "metadata": {
        "id": "odXzBYuNuISA"
      }
    },
    {
      "cell_type": "markdown",
      "source": [
        "Vamos a crear un Chatbot simple inspirado en código en un proyecto introductorio de Hyperskill\n",
        "* https://hyperskill.org/projects/97\n",
        "\n",
        "Soluciones:\n",
        "* https://github.com/syyynth/hyperskill/tree/main/python/0097%20-%20Simple%20Chatty%20Bot%20(Python)\n",
        "* https://github.com/Mathesh099/Simple-Chatty-Bot\n",
        "\n",
        "\n"
      ],
      "metadata": {
        "id": "y3DFJx5BuO5x"
      }
    },
    {
      "cell_type": "markdown",
      "source": [
        "## Etapa básica del proyecto\n",
        "### Los elementos incluidos en siguientes apartados son obligatorios para entrega de la tarea"
      ],
      "metadata": {
        "id": "ligaHTpZP4Jw"
      }
    },
    {
      "cell_type": "markdown",
      "source": [
        "### Vamos a saludar el usuario\n",
        "\n",
        "Para realizar este apartado se requiere usar las funciones `print()`, `input()`, `str()`, además, se requiere conocer la operación para concatenar las cadenas de texto."
      ],
      "metadata": {
        "id": "_wI4EOtGQ7Kh"
      }
    },
    {
      "cell_type": "code",
      "source": [
        "print('¡Hola! Soy un ChatBot.')\n",
        "print('Me crearon en 2025 como parte de un ejercicio.')\n",
        "print('¿Y tu nombre cual es?.')\n",
        "nombre_usuario = str(input())\n",
        "print('¡Me encanta tu nombre, ' + nombre_usuario + \"!\")"
      ],
      "metadata": {
        "colab": {
          "base_uri": "https://localhost:8080/"
        },
        "id": "mrRx_wGKQF-u",
        "outputId": "218fd348-bf1b-4473-c81d-6be3dada009e"
      },
      "execution_count": 2,
      "outputs": [
        {
          "output_type": "stream",
          "name": "stdout",
          "text": [
            "¡Hola! Soy un ChatBot.\n",
            "Me crearon en 2025 como parte de un ejercicio.\n",
            "¿Y tu nombre cual es?.\n",
            "Slava\n",
            "¡Me encanta tu nombre, Slava!\n"
          ]
        }
      ]
    },
    {
      "cell_type": "markdown",
      "source": [
        "### Ahora vamos a adivinar edad de un personaje ficticio. Para lograrlo vamos a hacer algunas preguntas\n",
        "\n",
        "1. Cual es el residuo de división de su edad entre 3\n",
        "2. Cual es el residuo de división de su edad entre 5\n",
        "3. Cual es el residuo de división de su edad entre 7\n",
        "\n",
        "Estos valores se puede anotar de siguiente manera:\n",
        "* $residuo_3 = Edad \\mod 3$\n",
        "* $residuo_5 = Edad \\mod 5$\n",
        "* $residuo_7 = Edad \\mod 7$\n",
        "\n",
        "Posterior a conocer estos tres valores, vamos a calcular probable edad de este personaje ficticio utilizando una formula:\n",
        "\n",
        "$Edad = {(residuo_3 \\times 70 + residuo_5 \\times 21 + residuo_7 \\times 15}) \\mod {105}$\n",
        "\n",
        "Para realizar este apartado se requiere usar las funciones `print()`, `input()`, `int()`, se requiere conocer las operación matematicas con los números enteros, incluyendo el operador  módulo `%` que permite calcular el remanente de la división. Además, se requiere conocer como podemos definir una función y llamarla."
      ],
      "metadata": {
        "id": "cE4WtHWERAYy"
      }
    },
    {
      "cell_type": "code",
      "source": [
        "def adivinar_edad():\n",
        "    print('Imagina un personaje humano. Debes conocer su edad. Me gustaría adivinar la edad de este personaje ficticio, ' + nombre_usuario + '.')\n",
        "    print('Para ello, te voy a hacer tres preguntas:')\n",
        "\n",
        "    rem3 = int(input('¿Cuál es el residuo de la división de su edad entre 3?\\n'))\n",
        "    rem5 = int(input('¿Cuál es el residuo de la división de su edad entre 5?\\n'))\n",
        "    rem7 = int(input('¿Cuál es el residuo de la división de su edad entre 7?\\n'))\n",
        "    age = (rem3 * 70 + rem5 * 21 + rem7 * 15) % 105\n",
        "\n",
        "    print(\"Creo que su edad es \" + str(age) + \" años. ¡Espero no haberme equivocado!\")\n",
        "\n",
        "adivinar_edad()"
      ],
      "metadata": {
        "colab": {
          "base_uri": "https://localhost:8080/"
        },
        "id": "khfmTEIgRMOv",
        "outputId": "4e379089-c4c8-43e2-a88a-a76c14961bed"
      },
      "execution_count": 4,
      "outputs": [
        {
          "output_type": "stream",
          "name": "stdout",
          "text": [
            "Imagina un personaje humano. Debes conocer su edad. Me gustaría adivinar la edad de este personaje ficticio, Slava.\n",
            "Para ello, te voy a hacer tres preguntas:\n",
            "¿Cuál es el residuo de la división de su edad entre 3?\n",
            "3\n",
            "¿Cuál es el residuo de la división de su edad entre 5?\n",
            "4\n",
            "¿Cuál es el residuo de la división de su edad entre 7?\n",
            "5\n",
            "Creo que su edad es 54 años. ¡Espero no haberme equivocado!\n"
          ]
        }
      ]
    },
    {
      "cell_type": "markdown",
      "source": [
        "### Ahora vamos a interactuar con el usuario por medio de una pregunta de opción multiple\n",
        "\n",
        "1. Vamos a formular la pregunta\n",
        "2. Vamos a presentar las opciones de la respuesta\n",
        "3. Vamos a solicitar al usuario elegir la respuesta\n",
        "4. Vamos a comprobar la respuesta del usuario cotra la correcta\n",
        "5. Vamos a informar el usuario sobre el resultado de elección, y en caso que la respuesta no es correcta, lo vamos a pedir introducir la respuesta otra vez\n",
        "6. Repetimos paso 5 hasta que la respuesta es correcta"
      ],
      "metadata": {
        "id": "rkvW1rsznaQe"
      }
    },
    {
      "cell_type": "code",
      "source": [
        "def test():\n",
        "    print(\"¿Cuál de las siguientes afirmaciones es correcta sobre la ciudad de Guadalajara?\")\n",
        "    print('Para responder la pregunta escribe el número de una de las siguientes respuestas:')\n",
        "    print('1. Es la capital del estado de Guanajuato.')\n",
        "    print('2. Es conocida como la \"Perla Tapatía\".')\n",
        "    print('3. Fue fundada en 1921.')\n",
        "    print('4. Está ubicada en la península de Yucatán.')\n",
        "    respuesta = int(input())\n",
        "    while respuesta != 2:\n",
        "        print('Respuesta incorrecta, intente otra vez.')\n",
        "        respuesta = int(input())\n",
        "    print(\"Muy bien, \" + nombre_usuario + \"! Su respuesta fue correcta.\")\n",
        "\n",
        "test()"
      ],
      "metadata": {
        "colab": {
          "base_uri": "https://localhost:8080/"
        },
        "id": "Isy4bzntn1e9",
        "outputId": "edc2e161-0975-4c2a-ea54-857e5621aaf2"
      },
      "execution_count": 6,
      "outputs": [
        {
          "output_type": "stream",
          "name": "stdout",
          "text": [
            "¿Cuál de las siguientes afirmaciones es correcta sobre la ciudad de Guadalajara?\n",
            "Para responder la pregunta escribe el número de una de las siguientes respuestas:\n",
            "1. Es la capital del estado de Guanajuato.\n",
            "2. Es conocida como la \"Perla Tapatía\".\n",
            "3. Fue fundada en 1921.\n",
            "4. Está ubicada en la península de Yucatán.\n",
            "2\n",
            "Muy bien, Slava! Su respuesta fue correcta.\n"
          ]
        }
      ]
    },
    {
      "cell_type": "markdown",
      "source": [
        "### Es hora de despedir"
      ],
      "metadata": {
        "id": "fuAe4uykraZp"
      }
    },
    {
      "cell_type": "code",
      "source": [
        "print('Hasta la proxima, ' + nombre_usuario + '!')"
      ],
      "metadata": {
        "colab": {
          "base_uri": "https://localhost:8080/"
        },
        "id": "lL3kU1JIrfyf",
        "outputId": "24f6bd47-48a2-4ad3-bb1d-5236c9db8fca"
      },
      "execution_count": null,
      "outputs": [
        {
          "output_type": "stream",
          "name": "stdout",
          "text": [
            "Hasta la proxima, Slava!\n"
          ]
        }
      ]
    }
  ]
}