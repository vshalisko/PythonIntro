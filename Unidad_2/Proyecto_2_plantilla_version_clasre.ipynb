{
  "nbformat": 4,
  "nbformat_minor": 0,
  "metadata": {
    "colab": {
      "provenance": [],
      "include_colab_link": true
    },
    "kernelspec": {
      "name": "python3",
      "display_name": "Python 3"
    },
    "language_info": {
      "name": "python"
    }
  },
  "cells": [
    {
      "cell_type": "markdown",
      "metadata": {
        "id": "view-in-github",
        "colab_type": "text"
      },
      "source": [
        "<a href=\"https://colab.research.google.com/github/vshalisko/PythonIntro/blob/main/Unidad_2/Proyecto_2_plantilla_version_clasre.ipynb\" target=\"_parent\"><img src=\"https://colab.research.google.com/assets/colab-badge.svg\" alt=\"Open In Colab\"/></a>"
      ]
    },
    {
      "cell_type": "markdown",
      "source": [
        "A continuacion se incluye un fragmento de código que permite descargar un archivo JSON con datos de curso de cambio de una divisa (**mxn**), y convertirla en diccionario de diccionarios.\n",
        "\n",
        "Nota: El codigo presentado abajo es solo un aplantilla, se requiere extender y modificarlo para cumplir con los lineamienots del ejercicio."
      ],
      "metadata": {
        "id": "cWPfS1Ffl8eK"
      }
    },
    {
      "cell_type": "code",
      "execution_count": null,
      "metadata": {
        "id": "W8opchc2lSDR",
        "outputId": "d9bb763e-fa7c-4c9f-b284-318be917400e",
        "colab": {
          "base_uri": "https://localhost:8080/"
        }
      },
      "outputs": [
        {
          "name": "stdout",
          "output_type": "stream",
          "text": [
            "Introduce la divisa de origen: usd\n"
          ]
        }
      ],
      "source": [
        "import json\n",
        "import requests\n",
        "\n",
        "def currency_search(cur):\n",
        "    r = requests.get(\"http://www.floatrates.com/daily/{}.json\".format(cur))\n",
        "    return r.text\n",
        "\n",
        "divisa_origen = input(\"Introduce la divisa de origen: \")\n",
        "\n",
        "exchange_file = currency_search(divisa_origen)\n",
        "exchange_dict = json.loads(exchange_file)\n"
      ]
    },
    {
      "cell_type": "markdown",
      "source": [
        "Consulta de una entrada del diccionario para divisa **usd**"
      ],
      "metadata": {
        "id": "YTDviEPkmsbD"
      }
    },
    {
      "cell_type": "code",
      "source": [
        "divisa_destino = input(\"Introduce la divisa de destino: \")\n",
        "print(exchange_dict[divisa_destino])\n",
        "\n",
        "# imprimir us contenido en un formato más amigable\n",
        "print(json.dumps(exchange_dict[\"usd\"], indent=4))\n"
      ],
      "metadata": {
        "colab": {
          "base_uri": "https://localhost:8080/",
          "height": 236
        },
        "id": "59CYBYwClmEg",
        "outputId": "07b753fc-a93c-47eb-ccce-dac69a5f84cf"
      },
      "execution_count": null,
      "outputs": [
        {
          "output_type": "stream",
          "name": "stdout",
          "text": [
            "Introduce la divisa de destino: rub\n",
            "{'code': 'RUB', 'alphaCode': 'RUB', 'numericCode': '643', 'name': 'Russian Rouble', 'rate': 82.01413454463, 'date': 'Wed, 1 Oct 2025 22:55:08 GMT', 'inverseRate': 0.012193020209898}\n"
          ]
        },
        {
          "output_type": "error",
          "ename": "KeyError",
          "evalue": "'usd'",
          "traceback": [
            "\u001b[0;31m---------------------------------------------------------------------------\u001b[0m",
            "\u001b[0;31mKeyError\u001b[0m                                  Traceback (most recent call last)",
            "\u001b[0;32m/tmp/ipython-input-1771707384.py\u001b[0m in \u001b[0;36m<cell line: 0>\u001b[0;34m()\u001b[0m\n\u001b[1;32m      3\u001b[0m \u001b[0;34m\u001b[0m\u001b[0m\n\u001b[1;32m      4\u001b[0m \u001b[0;31m# imprimir us contenido en un formato más amigable\u001b[0m\u001b[0;34m\u001b[0m\u001b[0;34m\u001b[0m\u001b[0m\n\u001b[0;32m----> 5\u001b[0;31m \u001b[0mprint\u001b[0m\u001b[0;34m(\u001b[0m\u001b[0mjson\u001b[0m\u001b[0;34m.\u001b[0m\u001b[0mdumps\u001b[0m\u001b[0;34m(\u001b[0m\u001b[0mexchange_dict\u001b[0m\u001b[0;34m[\u001b[0m\u001b[0;34m\"usd\"\u001b[0m\u001b[0;34m]\u001b[0m\u001b[0;34m,\u001b[0m \u001b[0mindent\u001b[0m\u001b[0;34m=\u001b[0m\u001b[0;36m4\u001b[0m\u001b[0;34m)\u001b[0m\u001b[0;34m)\u001b[0m\u001b[0;34m\u001b[0m\u001b[0;34m\u001b[0m\u001b[0m\n\u001b[0m",
            "\u001b[0;31mKeyError\u001b[0m: 'usd'"
          ]
        }
      ]
    },
    {
      "cell_type": "code",
      "source": [
        "tasa_cambio = exchange_dict[\"usd\"][\"rate\"]\n",
        "print(tasa_cambio)"
      ],
      "metadata": {
        "id": "tNtWAKtmgzi0",
        "outputId": "000a7c28-b814-4042-ee05-469174255a45",
        "colab": {
          "base_uri": "https://localhost:8080/"
        }
      },
      "execution_count": null,
      "outputs": [
        {
          "output_type": "stream",
          "name": "stdout",
          "text": [
            "0.7179003820476\n"
          ]
        }
      ]
    },
    {
      "cell_type": "code",
      "source": [
        "monto_por_convertir = float(input())\n",
        "print(\"Contidad en divisa de origen: \", round(monto_por_convertir,2))\n",
        "\n",
        "monto_en_divisa_destino = monto_por_convertir * tasa_cambio\n",
        "print(\"Cantidad en divisa de destino: \", round(monto_en_divisa_destino, 2))"
      ],
      "metadata": {
        "id": "hm4sg06Ng5C_",
        "outputId": "244238df-d2d8-4d08-d894-2217b632b568",
        "colab": {
          "base_uri": "https://localhost:8080/",
          "height": 234
        }
      },
      "execution_count": null,
      "outputs": [
        {
          "name": "stdout",
          "output_type": "stream",
          "text": [
            "Tortilla\n"
          ]
        },
        {
          "output_type": "error",
          "ename": "ValueError",
          "evalue": "could not convert string to float: 'Tortilla'",
          "traceback": [
            "\u001b[0;31m---------------------------------------------------------------------------\u001b[0m",
            "\u001b[0;31mValueError\u001b[0m                                Traceback (most recent call last)",
            "\u001b[0;32m/tmp/ipython-input-462320228.py\u001b[0m in \u001b[0;36m<cell line: 0>\u001b[0;34m()\u001b[0m\n\u001b[0;32m----> 1\u001b[0;31m \u001b[0mmonto_por_convertir\u001b[0m \u001b[0;34m=\u001b[0m \u001b[0mfloat\u001b[0m\u001b[0;34m(\u001b[0m\u001b[0minput\u001b[0m\u001b[0;34m(\u001b[0m\u001b[0;34m)\u001b[0m\u001b[0;34m)\u001b[0m\u001b[0;34m\u001b[0m\u001b[0;34m\u001b[0m\u001b[0m\n\u001b[0m\u001b[1;32m      2\u001b[0m \u001b[0mprint\u001b[0m\u001b[0;34m(\u001b[0m\u001b[0;34m\"Contidad en divisa de origen: \"\u001b[0m\u001b[0;34m,\u001b[0m \u001b[0mround\u001b[0m\u001b[0;34m(\u001b[0m\u001b[0mmonto_por_convertir\u001b[0m\u001b[0;34m,\u001b[0m\u001b[0;36m2\u001b[0m\u001b[0;34m)\u001b[0m\u001b[0;34m)\u001b[0m\u001b[0;34m\u001b[0m\u001b[0;34m\u001b[0m\u001b[0m\n\u001b[1;32m      3\u001b[0m \u001b[0;34m\u001b[0m\u001b[0m\n\u001b[1;32m      4\u001b[0m \u001b[0mmonto_en_divisa_destino\u001b[0m \u001b[0;34m=\u001b[0m \u001b[0mmonto_por_convertir\u001b[0m \u001b[0;34m*\u001b[0m \u001b[0mtasa_cambio\u001b[0m\u001b[0;34m\u001b[0m\u001b[0;34m\u001b[0m\u001b[0m\n\u001b[1;32m      5\u001b[0m \u001b[0mprint\u001b[0m\u001b[0;34m(\u001b[0m\u001b[0;34m\"Cantidad en divisa de destino: \"\u001b[0m\u001b[0;34m,\u001b[0m \u001b[0mround\u001b[0m\u001b[0;34m(\u001b[0m\u001b[0mmonto_en_divisa_destino\u001b[0m\u001b[0;34m,\u001b[0m \u001b[0;36m2\u001b[0m\u001b[0;34m)\u001b[0m\u001b[0;34m)\u001b[0m\u001b[0;34m\u001b[0m\u001b[0;34m\u001b[0m\u001b[0m\n",
            "\u001b[0;31mValueError\u001b[0m: could not convert string to float: 'Tortilla'"
          ]
        }
      ]
    }
  ]
}