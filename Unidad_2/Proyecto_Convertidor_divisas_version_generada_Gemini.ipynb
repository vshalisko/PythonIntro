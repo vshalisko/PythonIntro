{
  "nbformat": 4,
  "nbformat_minor": 0,
  "metadata": {
    "colab": {
      "provenance": [],
      "authorship_tag": "ABX9TyM4AhJ57BNsnAxvBIkq5jEU",
      "include_colab_link": true
    },
    "kernelspec": {
      "name": "python3",
      "display_name": "Python 3"
    },
    "language_info": {
      "name": "python"
    }
  },
  "cells": [
    {
      "cell_type": "markdown",
      "metadata": {
        "id": "view-in-github",
        "colab_type": "text"
      },
      "source": [
        "<a href=\"https://colab.research.google.com/github/vshalisko/PythonIntro/blob/main/Unidad_2/Proyecto_Convertidor_rivisas_version_generada_Gemini.ipynb\" target=\"_parent\"><img src=\"https://colab.research.google.com/assets/colab-badge.svg\" alt=\"Open In Colab\"/></a>"
      ]
    },
    {
      "cell_type": "markdown",
      "source": [
        "Se tomo la base en forma de unun fragmento de código que permite descargar un archivo JSON con datos de curso de cambio de una divisa (**mxn**, **usd** u otra), y convertirla en diccionario de diccionarios.\n",
        "\n",
        "Este codigo se puede dscargar desde el [Enlace a plantilla del proyecto en GitHub](https://github.com/vshalisko/PythonIntro/blob/main/Unidad_2/Proyecto_2_plantilla.ipynb)\n",
        "\n",
        "### Ejemplo de uso de AI para solucionar el proyecto\n",
        "\n",
        "#### Interacción con **Gemini**:\n",
        "###### Prompt 1:\n",
        "`Estoy creando un convertidor de divisas. En esta parte estoy descargando datos de una divisa de origen para guardarlos en forma de un diccionario. Modifica el codigo para preguntar al usuario el código de divisa de entrada y descargar datos según su entrada. Considera que el usuario puede especificar el codigo de divisa incorrecto, en este caso hay que informarlo que divisa de origen no se encontro.`\n",
        "\n",
        "###### Prompt 2:\n",
        "`Usa bloque try - except para controlar el exito de la consulta dependiendo de la entrada de usuario.`"
      ],
      "metadata": {
        "id": "cWPfS1Ffl8eK"
      }
    },
    {
      "cell_type": "code",
      "source": [],
      "metadata": {
        "id": "pMRxPoEct9jd"
      },
      "execution_count": null,
      "outputs": []
    },
    {
      "cell_type": "code",
      "execution_count": 3,
      "metadata": {
        "id": "W8opchc2lSDR",
        "colab": {
          "base_uri": "https://localhost:8080/"
        },
        "outputId": "7a25bec3-4e43-46c7-d80b-3e596d3c551a"
      },
      "outputs": [
        {
          "output_type": "stream",
          "name": "stdout",
          "text": [
            "Ingresa el código de la divisa de origen (ej. usd): mxn\n",
            "Datos para la divisa 'mxn' cargados exitosamente.\n"
          ]
        }
      ],
      "source": [
        "import json\n",
        "import requests\n",
        "\n",
        "def currency_search(cur):\n",
        "    r = requests.get(\"http://www.floatrates.com/daily/{}.json\".format(cur))\n",
        "    return r.text\n",
        "\n",
        "# Ask the user for the source currency code\n",
        "source_currency = input(\"Ingresa el código de la divisa de origen (ej. usd): \").lower()\n",
        "\n",
        "try:\n",
        "    exchange_file = currency_search(source_currency)\n",
        "    exchange_dict = json.loads(exchange_file)\n",
        "    print(f\"Datos para la divisa '{source_currency}' cargados exitosamente.\")\n",
        "except json.JSONDecodeError:\n",
        "    print(f\"Error: No se encontró la divisa de origen con el código '{source_currency}'.\")\n",
        "    exchange_dict = None # Set exchange_dict to None to indicate failure\n",
        "except requests.exceptions.RequestException as e:\n",
        "    print(f\"Error al conectar con el servicio: {e}\")\n",
        "    exchange_dict = None # Set exchange_dict to None to indicate failure"
      ]
    },
    {
      "cell_type": "markdown",
      "source": [
        "El siguiente bloque es parte de la plantilla de ejemplo, se puede eliminar, solo se incluye para consulta de las estructuras en el diccionario de divisas\n",
        "\n",
        "Consulta de una entrada del diccionario para la divisa **usd**"
      ],
      "metadata": {
        "id": "YTDviEPkmsbD"
      }
    },
    {
      "cell_type": "code",
      "source": [
        "# acceder a una parte de diccionario\n",
        "print(exchange_dict[\"usd\"])\n",
        "\n",
        "# imprimir us contenido en un formato más amigable\n",
        "print(json.dumps(exchange_dict[\"usd\"], indent=4))\n"
      ],
      "metadata": {
        "colab": {
          "base_uri": "https://localhost:8080/"
        },
        "id": "59CYBYwClmEg",
        "outputId": "da990d46-4a33-4639-bfde-fee11d805c0f"
      },
      "execution_count": 4,
      "outputs": [
        {
          "output_type": "stream",
          "name": "stdout",
          "text": [
            "{'code': 'USD', 'alphaCode': 'USD', 'numericCode': '840', 'name': 'U.S. Dollar', 'rate': 0.054329621664568, 'date': 'Fri, 3 Oct 2025 14:55:10 GMT', 'inverseRate': 18.406165354399}\n",
            "{\n",
            "    \"code\": \"USD\",\n",
            "    \"alphaCode\": \"USD\",\n",
            "    \"numericCode\": \"840\",\n",
            "    \"name\": \"U.S. Dollar\",\n",
            "    \"rate\": 0.054329621664568,\n",
            "    \"date\": \"Fri, 3 Oct 2025 14:55:10 GMT\",\n",
            "    \"inverseRate\": 18.406165354399\n",
            "}\n"
          ]
        }
      ]
    },
    {
      "cell_type": "markdown",
      "source": [
        "#### Interacción con **Gemini**:\n",
        "\n",
        "###### Prompt 3:\n",
        "`Agrega el componente que pregunta al usuario por el tipo de divisa de destino, el monto por convertir e imprime el resultado de conversión con precisión de dos digitos despues de punto. Contempla posibilidad de que la divisa no se encuentra en diccionario, en este caso hay que informar al usuario. Tambien contempla casos cuando usuario introduce datos incorrectos en la cantidad por convertir. Estas comprobaciones hay que implementar con try-except. El componente debe seguir funcionando continuamente (bucle while) hasta el momento cuando el usuario en lugar de poner el código de la divisa solo aprieta enter - en este caso bucle debe terminarse.`"
      ],
      "metadata": {
        "id": "CVYzTjAxtj9_"
      }
    },
    {
      "cell_type": "code",
      "source": [
        "while True:\n",
        "    target_currency = input(\"Ingresa el código de la divisa de destino (o presiona Enter para salir): \").lower()\n",
        "\n",
        "    if not target_currency:\n",
        "        break\n",
        "\n",
        "    if exchange_dict and target_currency in exchange_dict:\n",
        "        try:\n",
        "            amount_to_convert = float(input(f\"Ingresa la cantidad en {source_currency.upper()} a convertir: \"))\n",
        "            converted_amount = amount_to_convert * exchange_dict[target_currency]['rate']\n",
        "            print(f\"{amount_to_convert:.2f} {source_currency.upper()} es igual a {converted_amount:.2f} {target_currency.upper()}\")\n",
        "        except ValueError:\n",
        "            print(\"Error: Cantidad inválida. Por favor, ingresa un número.\")\n",
        "    elif exchange_dict is None:\n",
        "        print(\"No se pudieron cargar los datos de la divisa de origen.\")\n",
        "    else:\n",
        "        print(f\"Error: La divisa de destino con el código '{target_currency}' no se encontró en los datos.\")"
      ],
      "metadata": {
        "colab": {
          "base_uri": "https://localhost:8080/"
        },
        "id": "xHIIfeEssd_w",
        "outputId": "850931dc-36bc-4035-d585-c1af7092fa85"
      },
      "execution_count": 5,
      "outputs": [
        {
          "name": "stdout",
          "output_type": "stream",
          "text": [
            "Ingresa el código de la divisa de destino (o presiona Enter para salir): usd\n",
            "Ingresa la cantidad en MXN a convertir: 200\n",
            "200.00 MXN es igual a 10.87 USD\n",
            "Ingresa el código de la divisa de destino (o presiona Enter para salir): e\n",
            "Error: La divisa de destino con el código 'e' no se encontró en los datos.\n",
            "Ingresa el código de la divisa de destino (o presiona Enter para salir): rub\n",
            "Ingresa la cantidad en MXN a convertir: 567\n",
            "567.00 MXN es igual a 2519.55 RUB\n",
            "Ingresa el código de la divisa de destino (o presiona Enter para salir): rub\n",
            "Ingresa la cantidad en MXN a convertir: sdf\n",
            "Error: Cantidad inválida. Por favor, ingresa un número.\n",
            "Ingresa el código de la divisa de destino (o presiona Enter para salir): rub\n",
            "Ingresa la cantidad en MXN a convertir: 400\n",
            "400.00 MXN es igual a 1777.46 RUB\n",
            "Ingresa el código de la divisa de destino (o presiona Enter para salir): \n"
          ]
        }
      ]
    }
  ]
}
