{
  "nbformat": 4,
  "nbformat_minor": 0,
  "metadata": {
    "colab": {
      "provenance": [],
      "authorship_tag": "ABX9TyOgKNlqwJf4jTBGzg934/o+",
      "include_colab_link": true
    },
    "kernelspec": {
      "name": "python3",
      "display_name": "Python 3"
    },
    "language_info": {
      "name": "python"
    }
  },
  "cells": [
    {
      "cell_type": "markdown",
      "metadata": {
        "id": "view-in-github",
        "colab_type": "text"
      },
      "source": [
        "<a href=\"https://colab.research.google.com/github/vshalisko/PythonIntro/blob/main/Unidad_2/Proyecto_Convertidor_divisas.ipynb\" target=\"_parent\"><img src=\"https://colab.research.google.com/assets/colab-badge.svg\" alt=\"Open In Colab\"/></a>"
      ]
    },
    {
      "cell_type": "code",
      "execution_count": 6,
      "metadata": {
        "id": "V3wXCwGPUNX5"
      },
      "outputs": [],
      "source": [
        "import json\n",
        "import requests\n",
        "\n",
        "def currency_search(cur):\n",
        "    r = requests.get(\"http://www.floatrates.com/daily/{}.json\".format(cur))\n",
        "    return r.text\n"
      ]
    },
    {
      "cell_type": "code",
      "source": [
        "my_currency = str(input(\"Divisa inicial: \")).lower()\n",
        "\n",
        "\n",
        "exchange_file = currency_search(my_currency)\n",
        "exchange_dist = json.loads(exchange_file)\n",
        "\n",
        "#print(json.dumps(exchange_dist, indent=4))\n",
        "\n",
        "currency_cache = dict()\n",
        "\n",
        "if my_currency != \"usd\":\n",
        "    currency_cache[\"usd\"] = exchange_dist[\"usd\"][\"rate\"]\n",
        "if my_currency != \"eur\":\n",
        "    currency_cache[\"eur\"] = exchange_dist[\"eur\"][\"rate\"]\n",
        "if my_currency != \"mxn\":\n",
        "    currency_cache[\"mxn\"] = exchange_dist[\"mxn\"][\"rate\"]\n",
        "\n",
        "print(currency_cache)"
      ],
      "metadata": {
        "colab": {
          "base_uri": "https://localhost:8080/"
        },
        "id": "I8sqLqMEWjCr",
        "outputId": "3d108ca6-6d6a-4cc2-8a31-60977c679431"
      },
      "execution_count": 13,
      "outputs": [
        {
          "output_type": "stream",
          "name": "stdout",
          "text": [
            "Divisa inicial: USD\n",
            "{'eur': 0.85613291180952, 'mxn': 18.444538976095}\n"
          ]
        }
      ]
    },
    {
      "cell_type": "code",
      "source": [
        "while True:\n",
        "    target = str(input(\"Divisa destino: \"))\n",
        "    if target == \"\":\n",
        "        break\n",
        "    target = target.lower()\n",
        "    amount = float(input(\"Cantidad de dinero por convertir: \"))\n",
        "    print(\"Verificando cache...\")\n",
        "    if target in currency_cache.keys():\n",
        "        print(\"Divisa ya esta en cahe\")\n",
        "    else:\n",
        "        print(\"Divisa no esta en cache, intentamos agregar\")\n",
        "        currency_cache[target] = exchange_dist[target][\"rate\"]\n",
        "    target_amount = currency_cache[target] * amount\n",
        "    print(\"Resultado de conversión: {} {}.\".format(round(target_amount, 2), target.upper()))"
      ],
      "metadata": {
        "colab": {
          "base_uri": "https://localhost:8080/"
        },
        "id": "-rRIP9pKUtF3",
        "outputId": "8d9ba9c8-3f1c-4801-c253-4a6421f34b4b"
      },
      "execution_count": 15,
      "outputs": [
        {
          "name": "stdout",
          "output_type": "stream",
          "text": [
            "Divisa destino: GBP\n",
            "Cantidad de dinero por convertir: 30\n",
            "Verificando cache...\n",
            "Divisa no esta en cache, intentamos agregar\n",
            "Resultado de conversión: 22.44 GBP.\n",
            "Divisa destino: GBP\n",
            "Cantidad de dinero por convertir: 40\n",
            "Verificando cache...\n",
            "Divisa ya esta en cahe\n",
            "Resultado de conversión: 29.93 GBP.\n",
            "Divisa destino: RUB\n",
            "Cantidad de dinero por convertir: 50\n",
            "Verificando cache...\n",
            "Divisa ya esta en cahe\n",
            "Resultado de conversión: 4174.61 RUB.\n",
            "Divisa destino: \n"
          ]
        }
      ]
    }
  ]
}