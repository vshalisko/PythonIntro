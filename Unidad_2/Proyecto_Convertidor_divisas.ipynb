{
  "nbformat": 4,
  "nbformat_minor": 0,
  "metadata": {
    "colab": {
      "provenance": [],
      "authorship_tag": "ABX9TyOveJVK//+PKu81vM6ZTGP4",
      "include_colab_link": true
    },
    "kernelspec": {
      "name": "python3",
      "display_name": "Python 3"
    },
    "language_info": {
      "name": "python"
    }
  },
  "cells": [
    {
      "cell_type": "markdown",
      "metadata": {
        "id": "view-in-github",
        "colab_type": "text"
      },
      "source": [
        "<a href=\"https://colab.research.google.com/github/vshalisko/PythonIntro/blob/main/Unidad_2/Proyecto_Convertidor_divisas.ipynb\" target=\"_parent\"><img src=\"https://colab.research.google.com/assets/colab-badge.svg\" alt=\"Open In Colab\"/></a>"
      ]
    },
    {
      "cell_type": "markdown",
      "source": [
        "### Preparar el entorno y definir la función para descarga de datos"
      ],
      "metadata": {
        "id": "_-l8LMm-EuJW"
      }
    },
    {
      "cell_type": "code",
      "execution_count": 1,
      "metadata": {
        "id": "V3wXCwGPUNX5"
      },
      "outputs": [],
      "source": [
        "import json\n",
        "import requests\n",
        "\n",
        "def currency_search(cur):\n",
        "    r = requests.get(\"http://www.floatrates.com/daily/{}.json\".format(cur))\n",
        "    return r.text\n"
      ]
    },
    {
      "cell_type": "markdown",
      "source": [
        "#### Preguntar por la divisa inicial, descargar JSON con valores de conversión y definir diccionario para divisas más usadas"
      ],
      "metadata": {
        "id": "gUWl_x3cFETT"
      }
    },
    {
      "cell_type": "code",
      "source": [
        "my_currency = str(input(\"Divisa inicial: \")).lower()\n",
        "\n",
        "currency_cache = dict()\n",
        "\n",
        "try:\n",
        "    exchange_file = currency_search(my_currency)\n",
        "    exchange_dist = json.loads(exchange_file)\n",
        "    #print(json.dumps(exchange_dist, indent=4))\n",
        "\n",
        "    currency_cache[my_currency] = 1 # se agrega la tasa de conversión 1\n",
        "    if my_currency != \"usd\":\n",
        "      currency_cache[\"usd\"] = exchange_dist[\"usd\"][\"rate\"]\n",
        "    if my_currency != \"eur\":\n",
        "      currency_cache[\"eur\"] = exchange_dist[\"eur\"][\"rate\"]\n",
        "    if my_currency != \"mxn\":\n",
        "      currency_cache[\"mxn\"] = exchange_dist[\"mxn\"][\"rate\"]\n",
        "except:\n",
        "    print(\"Divisa no encontrada\")\n",
        "    currency_cache = dict()\n",
        "\n",
        "print(\"Cache: \", currency_cache)"
      ],
      "metadata": {
        "colab": {
          "base_uri": "https://localhost:8080/"
        },
        "id": "I8sqLqMEWjCr",
        "outputId": "006246e1-55a8-42ee-f560-9bd6c2ac5384"
      },
      "execution_count": 9,
      "outputs": [
        {
          "output_type": "stream",
          "name": "stdout",
          "text": [
            "Divisa inicial: gbp\n",
            "Cache:  {'gbp': 1, 'usd': 1.3366602511393, 'eur': 1.1443588329079, 'mxn': 24.654082099936}\n"
          ]
        }
      ]
    },
    {
      "cell_type": "markdown",
      "source": [
        "#### Preguntar datos para conversión (divisa destino y monto) e imprimir el valor calculado"
      ],
      "metadata": {
        "id": "pafQPwtQFes_"
      }
    },
    {
      "cell_type": "code",
      "source": [
        "while True:\n",
        "    target = str(input(\"Divisa destino: \"))\n",
        "    if target == \"\":\n",
        "        break\n",
        "    target = target.lower()\n",
        "    try:\n",
        "        amount = float(input(\"Cantidad de dinero por convertir: \"))\n",
        "    except:\n",
        "        print(\"Cantidad introducida no es valida\")\n",
        "        continue\n",
        "\n",
        "    print(\"Verificando cache...\")\n",
        "    if target in currency_cache.keys():\n",
        "        print(\"Divisa ya esta en cahe\")\n",
        "    else:\n",
        "        print(\"Divisa no esta en cache, intentamos agregar\")\n",
        "        try:\n",
        "            currency_cache[target] = exchange_dist[target][\"rate\"]\n",
        "        except:\n",
        "            print(\"Divisa no encontrada\")\n",
        "            continue\n",
        "\n",
        "    target_amount = currency_cache[target] * amount\n",
        "    print(\"Resultado de conversión: {} {}.\".format(round(target_amount, 2), target.upper()))\n",
        "\n",
        "print(\"Bye.\")"
      ],
      "metadata": {
        "colab": {
          "base_uri": "https://localhost:8080/"
        },
        "id": "-rRIP9pKUtF3",
        "outputId": "e97379a6-34fa-497e-c92d-e107fffe9cc7"
      },
      "execution_count": 14,
      "outputs": [
        {
          "output_type": "stream",
          "name": "stdout",
          "text": [
            "Divisa destino: gbp\n",
            "Cantidad de dinero por convertir: 4\n",
            "Verificando cache...\n",
            "Divisa ya esta en cahe\n",
            "Resultado de conversión: 4.0 GBP.\n",
            "Divisa destino: can\n",
            "Cantidad de dinero por convertir: 7\n",
            "Verificando cache...\n",
            "Divisa no esta en cache, intentamos agregar\n",
            "Divisa no encontrada\n",
            "Divisa destino: cnd\n",
            "Cantidad de dinero por convertir: 3\n",
            "Verificando cache...\n",
            "Divisa no esta en cache, intentamos agregar\n",
            "Divisa no encontrada\n",
            "Divisa destino: crc\n",
            "Cantidad de dinero por convertir: 87\n",
            "Verificando cache...\n",
            "Divisa no esta en cache, intentamos agregar\n",
            "Resultado de conversión: 58705.49 CRC.\n",
            "Divisa destino: crc\n",
            "Cantidad de dinero por convertir: fd\n",
            "Cantidad introducida no es valida\n",
            "Divisa destino: \n",
            "Bye.\n"
          ]
        }
      ]
    }
  ]
}