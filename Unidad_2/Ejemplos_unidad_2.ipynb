{
  "nbformat": 4,
  "nbformat_minor": 0,
  "metadata": {
    "colab": {
      "provenance": [],
      "authorship_tag": "ABX9TyP2n18fl2W28w6hb1aIALMO",
      "include_colab_link": true
    },
    "kernelspec": {
      "name": "python3",
      "display_name": "Python 3"
    },
    "language_info": {
      "name": "python"
    }
  },
  "cells": [
    {
      "cell_type": "markdown",
      "metadata": {
        "id": "view-in-github",
        "colab_type": "text"
      },
      "source": [
        "<a href=\"https://colab.research.google.com/github/vshalisko/PythonIntro/blob/main/Unidad_2/Ejemplos_unidad_2.ipynb\" target=\"_parent\"><img src=\"https://colab.research.google.com/assets/colab-badge.svg\" alt=\"Open In Colab\"/></a>"
      ]
    },
    {
      "cell_type": "code",
      "execution_count": 18,
      "metadata": {
        "colab": {
          "base_uri": "https://localhost:8080/"
        },
        "id": "AUCtU8y0CSYf",
        "outputId": "ba42ae4e-0ff9-4f32-c8f6-f210a62a2ebf"
      },
      "outputs": [
        {
          "output_type": "stream",
          "name": "stdout",
          "text": [
            "¿Cual es el precio por cuarto? 5709.30\n",
            "¿Cuantos huespedes?5\n",
            "Precio total del cuarto: 6622.79 pesos, cada \"huesped\" pagará: 1324.56 pesos\n"
          ]
        }
      ],
      "source": [
        "precio_de_cuarto = float(input(\"¿Cual es el precio por cuarto? \"))\n",
        "numero_huespedes = int(input(\"¿Cuantos huespedes? \"))\n",
        "porcentaje_impuesto = 16\n",
        "\n",
        "impuesto = precio_de_cuarto * porcentaje_impuesto / 100\n",
        "total = round(precio_de_cuarto + impuesto, 2)\n",
        "precio_por_huesped = round(total / numero_huespedes, 2)\n",
        "\n",
        "print(\"Precio total del cuarto: \" + str(total) + \" pesos, cada \\\"huesped\\\" pagará: \" + str(precio_por_huesped) + \" pesos\")\n",
        "\n"
      ]
    },
    {
      "cell_type": "code",
      "source": [
        "def t_convert(t):\n",
        "  resultado = t * 9 / 5 + 32\n",
        "  return resultado\n",
        "\n",
        "print(t_convert(float(input(\"Escribe T en Celsius: \"))))\n",
        "\n"
      ],
      "metadata": {
        "colab": {
          "base_uri": "https://localhost:8080/"
        },
        "id": "G4rM_OWnNfsp",
        "outputId": "084e8b5b-6f04-4889-a5d1-d65018894c62"
      },
      "execution_count": 21,
      "outputs": [
        {
          "output_type": "stream",
          "name": "stdout",
          "text": [
            "Escribe T en Celsius: -20\n",
            "-4.0\n"
          ]
        }
      ]
    }
  ]
}