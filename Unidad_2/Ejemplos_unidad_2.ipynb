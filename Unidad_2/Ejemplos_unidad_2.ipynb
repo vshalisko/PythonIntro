{
  "nbformat": 4,
  "nbformat_minor": 0,
  "metadata": {
    "colab": {
      "provenance": [],
      "authorship_tag": "ABX9TyM3u4C7NVAa3dMAnBrGcwF9",
      "include_colab_link": true
    },
    "kernelspec": {
      "name": "python3",
      "display_name": "Python 3"
    },
    "language_info": {
      "name": "python"
    }
  },
  "cells": [
    {
      "cell_type": "markdown",
      "metadata": {
        "id": "view-in-github",
        "colab_type": "text"
      },
      "source": [
        "<a href=\"https://colab.research.google.com/github/vshalisko/PythonIntro/blob/main/Unidad_2/Ejemplos_unidad_2.ipynb\" target=\"_parent\"><img src=\"https://colab.research.google.com/assets/colab-badge.svg\" alt=\"Open In Colab\"/></a>"
      ]
    },
    {
      "cell_type": "code",
      "execution_count": null,
      "metadata": {
        "colab": {
          "base_uri": "https://localhost:8080/"
        },
        "id": "L27XOWd216BV",
        "outputId": "b6bca1be-4eaa-4727-8bd8-fed771838892"
      },
      "outputs": [
        {
          "output_type": "stream",
          "name": "stdout",
          "text": [
            "Gracias\n"
          ]
        }
      ],
      "source": [
        "print(\"Gracias\")"
      ]
    },
    {
      "cell_type": "code",
      "source": [
        "nombre = input(\"¿Cuál es tu nombre? \")\n"
      ],
      "metadata": {
        "colab": {
          "base_uri": "https://localhost:8080/"
        },
        "id": "VYaYfz4L3G0e",
        "outputId": "8f503174-27e3-4868-d15e-991548e7cdbd"
      },
      "execution_count": null,
      "outputs": [
        {
          "name": "stdout",
          "output_type": "stream",
          "text": [
            "¿Cuál es tu nombre? Slava\n"
          ]
        }
      ]
    },
    {
      "cell_type": "code",
      "source": [
        "print(type(\"a\"))\n",
        "print(type(2))\n",
        "print(type(2.13))\n",
        "print(type(True))\n"
      ],
      "metadata": {
        "colab": {
          "base_uri": "https://localhost:8080/"
        },
        "id": "WfLkpHRD3O_-",
        "outputId": "ece4e495-9b87-4ebd-ae39-d857edca30c4"
      },
      "execution_count": null,
      "outputs": [
        {
          "output_type": "stream",
          "name": "stdout",
          "text": [
            "<class 'str'>\n",
            "<class 'int'>\n",
            "<class 'float'>\n",
            "<class 'bool'>\n"
          ]
        }
      ]
    },
    {
      "cell_type": "code",
      "source": [
        "nombres = [\"Slava\", \"Gabriela\"]\n",
        "calificaciones = [10, 8, 9.5, 4]\n",
        "\n",
        "print(type(nombres))\n",
        "print(type(calificaciones))\n",
        "\n",
        "print(nombres)\n",
        "print(calificaciones)"
      ],
      "metadata": {
        "colab": {
          "base_uri": "https://localhost:8080/"
        },
        "id": "nP2A11JG4PT3",
        "outputId": "5b8fc547-63a3-47db-d44a-8d8c093cc601"
      },
      "execution_count": null,
      "outputs": [
        {
          "output_type": "stream",
          "name": "stdout",
          "text": [
            "<class 'list'>\n",
            "<class 'list'>\n",
            "['Slava', 'Gabriela']\n",
            "[10, 8, 9.5, 4]\n"
          ]
        }
      ]
    },
    {
      "cell_type": "code",
      "source": [
        "pi = 3.141592\n",
        "r = 12.42\n",
        "area = pi * (r ** 2)\n",
        "print(area)\n"
      ],
      "metadata": {
        "colab": {
          "base_uri": "https://localhost:8080/"
        },
        "id": "WcIgv1H99cbO",
        "outputId": "c135f0d0-8451-43b0-95f1-c6bc38347bda"
      },
      "execution_count": null,
      "outputs": [
        {
          "output_type": "stream",
          "name": "stdout",
          "text": [
            "484.6106721888\n"
          ]
        }
      ]
    },
    {
      "cell_type": "code",
      "source": [
        "horas = 67\n",
        "dias = horas // 24\n",
        "horas_residuo = horas % 24\n",
        "print(f\"{horas} horas equivalen a {dias} dias y {horas_residuo} horas\")"
      ],
      "metadata": {
        "colab": {
          "base_uri": "https://localhost:8080/"
        },
        "id": "L4bHBeGxrwe_",
        "outputId": "f332a7d3-c26b-415e-a34f-8d14c78e013d"
      },
      "execution_count": null,
      "outputs": [
        {
          "output_type": "stream",
          "name": "stdout",
          "text": [
            "67 horas equivalen a 2 dias y 19 horas\n"
          ]
        }
      ]
    },
    {
      "cell_type": "code",
      "source": [
        "numero = -2\n",
        "\n",
        "if numero > 0:\n",
        "    print(\"El número es positivo\")\n",
        "elif numero < 0:\n",
        "    print(\"El número es negativo\")\n",
        "else:\n",
        "    print(\"El número es cero\")\n"
      ],
      "metadata": {
        "colab": {
          "base_uri": "https://localhost:8080/"
        },
        "id": "MBbfNGwz7p1B",
        "outputId": "fa68ed38-f34a-44a8-bfbe-2049668e4d22"
      },
      "execution_count": null,
      "outputs": [
        {
          "output_type": "stream",
          "name": "stdout",
          "text": [
            "El número es negativo\n"
          ]
        }
      ]
    },
    {
      "cell_type": "code",
      "source": [
        "# Definición de variables con el operador de asignación\n",
        "# y uso de expresiones para calcular los valores\n",
        "cuarto_hotel = 1200\n",
        "impuesto = cuarto_hotel * 0.16\n",
        "total = cuarto_hotel + impuesto\n",
        "huespedes = 4\n",
        "cuota_por_huesped = total / huespedes\n",
        "\n",
        "\n",
        "# La linea a continuación permite imprimir el mensaje\n",
        "# con valor de precio del hotel por persona\n",
        "print(\"Cada huesped pagará: \" + str(cuota_por_huesped) + \" pesos\")"
      ],
      "metadata": {
        "colab": {
          "base_uri": "https://localhost:8080/"
        },
        "id": "b2HqOfK-NQsd",
        "outputId": "429b835c-4097-43ea-eb75-c01f4b94acd7"
      },
      "execution_count": null,
      "outputs": [
        {
          "output_type": "stream",
          "name": "stdout",
          "text": [
            "Cada huesped pagará: 348.0 pesos\n"
          ]
        }
      ]
    },
    {
      "cell_type": "markdown",
      "source": [
        "### Funciones"
      ],
      "metadata": {
        "id": "KMgZHXqduC9Q"
      }
    },
    {
      "cell_type": "code",
      "source": [
        "def saludo(nombre, campus):\n",
        "    print(\"\\nBienvenidos, \" + nombre)\n",
        "    print(\"Su campus es \" + campus)\n",
        "\n",
        "saludo(\"Slava\", \"CUCBA\")\n",
        "saludo(\"Ivan\", \"CUCSH\")"
      ],
      "metadata": {
        "colab": {
          "base_uri": "https://localhost:8080/"
        },
        "id": "QTTFW5soQhlD",
        "outputId": "d4ffc6f0-3bd8-4470-d410-544944e01d16"
      },
      "execution_count": null,
      "outputs": [
        {
          "output_type": "stream",
          "name": "stdout",
          "text": [
            "\n",
            "Bienvenidos, Slava\n",
            "Su campus es CUCBA\n",
            "\n",
            "Bienvenidos, Ivan\n",
            "Su campus es CUCSH\n"
          ]
        }
      ]
    },
    {
      "cell_type": "code",
      "source": [
        "def celsius_a_fahrenheit(celsius):\n",
        "    fahrenheit = (celsius * 9/5) + 32\n",
        "    return fahrenheit\n",
        "\n",
        "t_celsius = 25\n",
        "t_fahrenheit = celsius_a_fahrenheit(t_celsius)\n",
        "print(t_fahrenheit)"
      ],
      "metadata": {
        "colab": {
          "base_uri": "https://localhost:8080/"
        },
        "id": "cZjKHkncUMWc",
        "outputId": "0794aa2d-6fc4-4275-b139-7e64c040e212"
      },
      "execution_count": null,
      "outputs": [
        {
          "output_type": "stream",
          "name": "stdout",
          "text": [
            "77.0\n"
          ]
        }
      ]
    },
    {
      "cell_type": "code",
      "source": [
        "def imprime_separador():\n",
        "  print(\"-\" * 30)\n",
        "\n",
        "imprime_separador()\n",
        "print(\"Hola\")\n",
        "imprime_separador()\n",
        "\n"
      ],
      "metadata": {
        "colab": {
          "base_uri": "https://localhost:8080/"
        },
        "id": "Gu7XmNKQVZiU",
        "outputId": "8f71f1c4-1c30-41f1-f8ad-bca78ed57f8f"
      },
      "execution_count": null,
      "outputs": [
        {
          "output_type": "stream",
          "name": "stdout",
          "text": [
            "------------------------------\n",
            "Hola\n",
            "------------------------------\n"
          ]
        }
      ]
    },
    {
      "cell_type": "markdown",
      "source": [
        "### Bloque **if - else**"
      ],
      "metadata": {
        "id": "rh86fKFOt7Ye"
      }
    },
    {
      "cell_type": "code",
      "source": [
        "numero_patas = int(input(\"¿Cuántas patas tiene el animal? \"))\n",
        "\n",
        "# Responde según el número de patas.\n",
        "if numero_patas == 6:\n",
        "  print(\"¡Ese es un insecto!\")\n",
        "elif numero_patas == 8:\n",
        "  print(\"¡Esa es una araña!\")\n",
        "elif numero_patas == 4:\n",
        "  print(\"Podría ser un caballo u otro mamífero de cuatro patas.\")\n",
        "elif numero_patas == 2:\n",
        "  print(\"¡Ese es un ave!\")\n",
        "else:\n",
        "  print(\"No sé qué animal es con esa cantidad de patas.\")"
      ],
      "metadata": {
        "colab": {
          "base_uri": "https://localhost:8080/"
        },
        "id": "W8bZqk3VaZis",
        "outputId": "a7885e4e-486d-4920-eb15-b2775e1be74a"
      },
      "execution_count": null,
      "outputs": [
        {
          "output_type": "stream",
          "name": "stdout",
          "text": [
            "¿Cuántas patas tiene el animal? 4\n",
            "Podría ser un caballo u otro mamífero de cuatro patas.\n"
          ]
        }
      ]
    },
    {
      "cell_type": "code",
      "source": [
        "def verificar_nombre(username):\n",
        "    if len(username) < 3:\n",
        "        print(\"Nombre de usuario incorrecto. Debe tener por lo menos 3 símbolos.\")\n",
        "    elif len(username) > 15:\n",
        "        print(\"Nombre de usuario incorrecto. Debe tener como máximo 15 símbolos.\")\n",
        "    else:\n",
        "        print(\"Nombre de usuario correcto.\")\n",
        "\n",
        "verificar_nombre(\"Iv\")\n",
        "verificar_nombre(\"Ivan\")\n",
        "verificar_nombre(\"Tlahuizcalpantecuhtli\")\n"
      ],
      "metadata": {
        "colab": {
          "base_uri": "https://localhost:8080/"
        },
        "id": "Lfza4h-PWAAz",
        "outputId": "63390e26-cec6-4df9-b07b-6c03980560c8"
      },
      "execution_count": null,
      "outputs": [
        {
          "output_type": "stream",
          "name": "stdout",
          "text": [
            "Nombre de usuario incorrecto. Debe tener por lo menos 3 símbolos.\n",
            "Nombre de usuario correcto.\n",
            "Nombre de usuario incorrecto. Debe tener como máximo 15 símbolos.\n"
          ]
        }
      ]
    },
    {
      "cell_type": "markdown",
      "source": [
        "### Bucle **while**"
      ],
      "metadata": {
        "id": "bgXBLCnGt1f8"
      }
    },
    {
      "cell_type": "code",
      "source": [
        "contador = 0\n",
        "while contador < 10:\n",
        "    print(contador)\n",
        "    contador += 1"
      ],
      "metadata": {
        "colab": {
          "base_uri": "https://localhost:8080/"
        },
        "id": "cZdoyW50tNuZ",
        "outputId": "cf20ff13-bb1f-40fb-c122-57a68010bf8a"
      },
      "execution_count": null,
      "outputs": [
        {
          "output_type": "stream",
          "name": "stdout",
          "text": [
            "0\n",
            "1\n",
            "2\n",
            "3\n",
            "4\n",
            "5\n",
            "6\n",
            "7\n",
            "8\n",
            "9\n"
          ]
        }
      ]
    },
    {
      "cell_type": "code",
      "source": [
        "resultado = 100\n",
        "while resultado > 3:\n",
        "    print(resultado)\n",
        "    resultado = resultado / 2"
      ],
      "metadata": {
        "colab": {
          "base_uri": "https://localhost:8080/"
        },
        "id": "-jZn6bOUlapn",
        "outputId": "0e15fac1-251a-465e-8ca6-2c5e36d0f6cd"
      },
      "execution_count": null,
      "outputs": [
        {
          "output_type": "stream",
          "name": "stdout",
          "text": [
            "100\n",
            "50.0\n",
            "25.0\n",
            "12.5\n",
            "6.25\n",
            "3.125\n"
          ]
        }
      ]
    },
    {
      "cell_type": "code",
      "source": [
        "while True:\n",
        "  print(\"Adivina mi ciudad\")\n",
        "  ciudad = str(input(\"Mi ciudad es: \"))\n",
        "  if ciudad == \"Guadalajara\":\n",
        "    print(\"¡Adivinaste!\")\n",
        "    break\n",
        "  print(\"¡No adivinaste! Intenta de nuevo\")\n",
        "\n"
      ],
      "metadata": {
        "colab": {
          "base_uri": "https://localhost:8080/"
        },
        "id": "6m7UgWQvnNcg",
        "outputId": "49c0d0db-fa29-40bb-86f8-32f410729d51"
      },
      "execution_count": null,
      "outputs": [
        {
          "output_type": "stream",
          "name": "stdout",
          "text": [
            "Adivina mi ciudad\n",
            "Mi ciudad es: Moscú\n",
            "¡No adivinaste! Intenta de nuevo\n",
            "Adivina mi ciudad\n",
            "Mi ciudad es: Guadalajara\n",
            "¡Adivinaste!\n"
          ]
        }
      ]
    },
    {
      "cell_type": "markdown",
      "source": [
        "### Bucle **for**"
      ],
      "metadata": {
        "id": "fA_1ewrLtw4C"
      }
    },
    {
      "cell_type": "code",
      "source": [
        "# Ejemplo de bucle for\n",
        "numeros = [1, 2, 3, 4, 5]\n",
        "\n",
        "for numero in numeros:\n",
        "    print(f\"El número es: {numero}\")"
      ],
      "metadata": {
        "colab": {
          "base_uri": "https://localhost:8080/"
        },
        "id": "pPQ6Tm4Qooy3",
        "outputId": "dc904bee-273b-44db-9cf0-7b104e147c46"
      },
      "execution_count": null,
      "outputs": [
        {
          "output_type": "stream",
          "name": "stdout",
          "text": [
            "El número es: 1\n",
            "El número es: 2\n",
            "El número es: 3\n",
            "El número es: 4\n",
            "El número es: 5\n"
          ]
        }
      ]
    },
    {
      "cell_type": "code",
      "source": [
        "for i in \"Universidad\":\n",
        "  print(f\"{i}\")"
      ],
      "metadata": {
        "colab": {
          "base_uri": "https://localhost:8080/"
        },
        "id": "UxBxVIziqxn4",
        "outputId": "3277daec-b6b7-4adb-87d8-c99ebdcba108"
      },
      "execution_count": null,
      "outputs": [
        {
          "output_type": "stream",
          "name": "stdout",
          "text": [
            "U\n",
            "n\n",
            "i\n",
            "v\n",
            "e\n",
            "r\n",
            "s\n",
            "i\n",
            "d\n",
            "a\n",
            "d\n"
          ]
        }
      ]
    },
    {
      "cell_type": "code",
      "source": [
        "for i in range(10, 101, 10):\n",
        "  print(f\"{i}\")"
      ],
      "metadata": {
        "colab": {
          "base_uri": "https://localhost:8080/"
        },
        "id": "PD-7I5S2rXvG",
        "outputId": "25cb4537-8642-472a-d7eb-6339802804cc"
      },
      "execution_count": null,
      "outputs": [
        {
          "output_type": "stream",
          "name": "stdout",
          "text": [
            "10\n",
            "20\n",
            "30\n",
            "40\n",
            "50\n",
            "60\n",
            "70\n",
            "80\n",
            "90\n",
            "100\n"
          ]
        }
      ]
    },
    {
      "cell_type": "markdown",
      "source": [
        "### Cadenas de texto"
      ],
      "metadata": {
        "id": "sxCtnTlOtpm6"
      }
    },
    {
      "cell_type": "code",
      "source": [
        "frase = \"La crisis se produce cuando lo viejo no acaba de morir y cuando lo nuevo no acaba de nacer\"\n",
        "\n",
        "largo_frase = len(frase)\n",
        "print(frase)\n",
        "print(largo_frase)"
      ],
      "metadata": {
        "colab": {
          "base_uri": "https://localhost:8080/"
        },
        "id": "UZy49uzPMU1w",
        "outputId": "26fceb23-10de-4c28-9503-3ffa9d9e9f01"
      },
      "execution_count": 3,
      "outputs": [
        {
          "output_type": "stream",
          "name": "stdout",
          "text": [
            "La crisis se produce cuando lo viejo no acaba de morir y cuando lo nuevo no acaba de nacer\n",
            "90\n"
          ]
        }
      ]
    },
    {
      "cell_type": "code",
      "source": [
        "frase2 = \"\"\"\n",
        "\"La crisis se produce cuando lo viejo no acaba de morir y cuando lo nuevo no acaba de nacer\".\n",
        "–Bertolt Brecht.\n",
        "\"\"\"\n",
        "\n",
        "largo_frase2 = len(frase2)\n",
        "print(frase2)\n",
        "print(largo_frase2)"
      ],
      "metadata": {
        "colab": {
          "base_uri": "https://localhost:8080/"
        },
        "id": "6Fx0b5RdMp1C",
        "outputId": "5dd1edde-2d17-4830-f52f-d9d0e912d2f1"
      },
      "execution_count": 4,
      "outputs": [
        {
          "output_type": "stream",
          "name": "stdout",
          "text": [
            "\n",
            "\"La crisis se produce cuando lo viejo no acaba de morir y cuando lo nuevo no acaba de nacer\".\n",
            "–Bertolt Brecht.\n",
            "\n",
            "112\n"
          ]
        }
      ]
    },
    {
      "cell_type": "code",
      "source": [
        "frase = \"La crisis se produce cuando lo viejo no acaba de morir y cuando lo nuevo no acaba de nacer\"\n",
        "print(frase[0])\n",
        "print(frase[3])\n",
        "print(frase[-5])"
      ],
      "metadata": {
        "colab": {
          "base_uri": "https://localhost:8080/"
        },
        "id": "mqb-yLkkPiQQ",
        "outputId": "4b8e0050-d349-470c-ec07-99faf6db9e12"
      },
      "execution_count": 5,
      "outputs": [
        {
          "output_type": "stream",
          "name": "stdout",
          "text": [
            "L\n",
            "c\n",
            "n\n"
          ]
        }
      ]
    },
    {
      "cell_type": "code",
      "source": [
        "print(frase[0:9])\n",
        "print(frase[76:])\n",
        "print(frase[-17:-15])"
      ],
      "metadata": {
        "colab": {
          "base_uri": "https://localhost:8080/"
        },
        "id": "_jb-xVW4QLMj",
        "outputId": "64a030c7-de55-496b-80c8-409e603608f7"
      },
      "execution_count": 13,
      "outputs": [
        {
          "output_type": "stream",
          "name": "stdout",
          "text": [
            "La crisis\n",
            "acaba de nacer\n",
            "no\n"
          ]
        }
      ]
    },
    {
      "cell_type": "code",
      "source": [
        "fruto = \"aguacate\"\n",
        "\n",
        "parte_1 = fruto[:4]\n",
        "parte_2 = fruto[4:]\n",
        "\n",
        "print(parte_1)\n",
        "print(parte_2)\n",
        "\n",
        "print(parte_1 + parte_2)\n"
      ],
      "metadata": {
        "colab": {
          "base_uri": "https://localhost:8080/"
        },
        "id": "0Rg323QKR7Yd",
        "outputId": "a6fdf366-2c24-4da5-f361-597845749b2f"
      },
      "execution_count": 19,
      "outputs": [
        {
          "output_type": "stream",
          "name": "stdout",
          "text": [
            "agua\n",
            "cate\n",
            "aguacate\n"
          ]
        }
      ]
    },
    {
      "cell_type": "code",
      "source": [
        "animales = \"leones tigeres and osos\"\n",
        "print(animales.index(\"g\"))\n",
        "print(animales.index(\"osos\"))"
      ],
      "metadata": {
        "colab": {
          "base_uri": "https://localhost:8080/"
        },
        "id": "6ZD6kSiUTVlu",
        "outputId": "831ae557-4bcf-4d94-b975-0139c64ef8da"
      },
      "execution_count": 25,
      "outputs": [
        {
          "output_type": "stream",
          "name": "stdout",
          "text": [
            "9\n",
            "19\n"
          ]
        }
      ]
    },
    {
      "cell_type": "code",
      "source": [
        "animales = \"leones tigeres and osos\"\n",
        "print(\"caballos\" in animales)\n",
        "print(\"osos\" in animales)\n"
      ],
      "metadata": {
        "colab": {
          "base_uri": "https://localhost:8080/"
        },
        "id": "NZqFbjsLTxaQ",
        "outputId": "097f5472-1540-4404-9a58-736e1ff71b8e"
      },
      "execution_count": 24,
      "outputs": [
        {
          "output_type": "stream",
          "name": "stdout",
          "text": [
            "False\n",
            "True\n"
          ]
        }
      ]
    },
    {
      "cell_type": "code",
      "source": [
        "print(\"Montañas\".upper())\n",
        "print(\"Montañas\".lower())"
      ],
      "metadata": {
        "colab": {
          "base_uri": "https://localhost:8080/"
        },
        "id": "Kp7z2IbrVOBR",
        "outputId": "254e11e5-e9d6-4685-a4b4-0cb3c8fe336b"
      },
      "execution_count": 27,
      "outputs": [
        {
          "output_type": "stream",
          "name": "stdout",
          "text": [
            "MONTAÑAS\n",
            "montañas\n"
          ]
        }
      ]
    },
    {
      "cell_type": "markdown",
      "source": [
        "### Listas"
      ],
      "metadata": {
        "id": "Rp75YkF5qKRf"
      }
    },
    {
      "cell_type": "code",
      "source": [
        "conciertos = [\"Zoé\", \"Caifanes\", \"Icons of Classic Rock\", \"Natalia Jiménez\"]\n",
        "print(type(conciertos))\n",
        "print(conciertos)"
      ],
      "metadata": {
        "colab": {
          "base_uri": "https://localhost:8080/"
        },
        "id": "vCv6Jj6SICzv",
        "outputId": "d19c8460-23b4-478f-cbcb-a82799125f99"
      },
      "execution_count": 3,
      "outputs": [
        {
          "output_type": "stream",
          "name": "stdout",
          "text": [
            "<class 'list'>\n",
            "['Zoé', 'Caifanes', 'Icons of Classic Rock', 'Natalia Jiménez']\n"
          ]
        }
      ]
    },
    {
      "cell_type": "code",
      "source": [
        "print(len(conciertos))\n",
        "print(\"Caifanes\" in conciertos)"
      ],
      "metadata": {
        "colab": {
          "base_uri": "https://localhost:8080/"
        },
        "id": "5neM5LbYKQnw",
        "outputId": "13a1aa0f-38c6-460b-9fb9-42167178b39b"
      },
      "execution_count": 4,
      "outputs": [
        {
          "output_type": "stream",
          "name": "stdout",
          "text": [
            "4\n",
            "True\n"
          ]
        }
      ]
    },
    {
      "cell_type": "code",
      "source": [
        "print(conciertos[2])\n",
        "print(conciertos[:2])"
      ],
      "metadata": {
        "colab": {
          "base_uri": "https://localhost:8080/"
        },
        "id": "sF_Uf06nKu5H",
        "outputId": "2b975ae4-2859-470f-8d3e-d027a4d64c79"
      },
      "execution_count": 5,
      "outputs": [
        {
          "output_type": "stream",
          "name": "stdout",
          "text": [
            "Icons of Classic Rock\n",
            "['Zoé', 'Caifanes']\n"
          ]
        }
      ]
    },
    {
      "cell_type": "code",
      "source": [
        "fruitos = [\"Piña\", \"Manzana\", \"Pera\", \"Fresa\"]\n",
        "fruitos.append(\"Membrillo\")\n",
        "print(fruitos)"
      ],
      "metadata": {
        "colab": {
          "base_uri": "https://localhost:8080/"
        },
        "id": "2HeqRo7QNcOw",
        "outputId": "10af37de-c6a5-4a67-9918-b1cf2de872e9"
      },
      "execution_count": 11,
      "outputs": [
        {
          "output_type": "stream",
          "name": "stdout",
          "text": [
            "['Piña', 'Manzana', 'Pera', 'Fresa', 'Membrillo']\n"
          ]
        }
      ]
    },
    {
      "cell_type": "code",
      "source": [
        "fruitos.insert(2, \"Naranja\")\n",
        "print(fruitos)"
      ],
      "metadata": {
        "colab": {
          "base_uri": "https://localhost:8080/"
        },
        "id": "ZYFzD4iuN9gf",
        "outputId": "46bde78c-a22e-4eeb-892b-064239dd0ec2"
      },
      "execution_count": 12,
      "outputs": [
        {
          "output_type": "stream",
          "name": "stdout",
          "text": [
            "['Piña', 'Manzana', 'Naranja', 'Pera', 'Fresa', 'Membrillo']\n"
          ]
        }
      ]
    },
    {
      "cell_type": "code",
      "source": [
        "fruitos.remove(\"Pera\")\n",
        "print(fruitos)"
      ],
      "metadata": {
        "colab": {
          "base_uri": "https://localhost:8080/"
        },
        "id": "8iA5qaNbOvrK",
        "outputId": "09063fa5-b839-4dd3-88ec-328062297c03"
      },
      "execution_count": 13,
      "outputs": [
        {
          "output_type": "stream",
          "name": "stdout",
          "text": [
            "['Piña', 'Manzana', 'Naranja', 'Fresa', 'Membrillo']\n"
          ]
        }
      ]
    },
    {
      "cell_type": "code",
      "source": [
        "fruitos.pop()"
      ],
      "metadata": {
        "colab": {
          "base_uri": "https://localhost:8080/",
          "height": 36
        },
        "id": "NDdBqXr9PM66",
        "outputId": "e800678d-dc63-4387-de19-cc74a489fbb9"
      },
      "execution_count": 14,
      "outputs": [
        {
          "output_type": "execute_result",
          "data": {
            "text/plain": [
              "'Membrillo'"
            ],
            "application/vnd.google.colaboratory.intrinsic+json": {
              "type": "string"
            }
          },
          "metadata": {},
          "execution_count": 14
        }
      ]
    },
    {
      "cell_type": "markdown",
      "source": [
        "### Lista de listas"
      ],
      "metadata": {
        "id": "VLa8Ek2PpE0f"
      }
    },
    {
      "cell_type": "code",
      "source": [
        "alimentos = [[\"pan de caja\", \"tortilla\", \"bolillo\", \"baguette\"],\n",
        "            [\"te negro\", \"te verde\", \"cafe americano\", \"cafe capuchino\"]]\n",
        "\n",
        "print(alimentos[0])\n",
        "print(alimentos[1])\n",
        "print(alimentos[0][1])\n",
        "print(alimentos[1][3])"
      ],
      "metadata": {
        "colab": {
          "base_uri": "https://localhost:8080/"
        },
        "id": "-NGus4PfpEDh",
        "outputId": "ec2e45cb-c6b9-4cac-ff59-61b8b005c402"
      },
      "execution_count": 11,
      "outputs": [
        {
          "output_type": "stream",
          "name": "stdout",
          "text": [
            "['pan de caja', 'tortilla', 'bolillo', 'baguette']\n",
            "['te negro', 'te verde', 'cafe americano', 'cafe capuchino']\n",
            "tortilla\n",
            "cafe capuchino\n"
          ]
        }
      ]
    },
    {
      "cell_type": "markdown",
      "source": [
        "### Diccionarios"
      ],
      "metadata": {
        "id": "Eh37e43vqPj7"
      }
    },
    {
      "cell_type": "code",
      "source": [
        "file_counts = {\"jpg\":10, \"txt\":14, \"csv\":2, \"py\":23}\n",
        "print(type(file_counts))\n",
        "print(file_counts)"
      ],
      "metadata": {
        "colab": {
          "base_uri": "https://localhost:8080/"
        },
        "id": "KjYGxH38Qbpw",
        "outputId": "937c9b3f-bf43-4df6-93ba-c872ea44c0a2"
      },
      "execution_count": 17,
      "outputs": [
        {
          "output_type": "stream",
          "name": "stdout",
          "text": [
            "<class 'dict'>\n",
            "{'jpg': 10, 'txt': 14, 'csv': 2, 'py': 23}\n"
          ]
        }
      ]
    },
    {
      "cell_type": "code",
      "source": [
        "print(file_counts[\"txt\"])\n",
        "print(\"jpg\" in file_counts)\n",
        "print(\"html\" in file_counts)"
      ],
      "metadata": {
        "colab": {
          "base_uri": "https://localhost:8080/"
        },
        "id": "QZGlNxuVRNic",
        "outputId": "98c325aa-52b8-45c6-c06b-7f737aa9f113"
      },
      "execution_count": 18,
      "outputs": [
        {
          "output_type": "stream",
          "name": "stdout",
          "text": [
            "14\n",
            "True\n",
            "False\n"
          ]
        }
      ]
    },
    {
      "cell_type": "code",
      "source": [
        "file_counts[\"cfg\"] = 8\n",
        "print(file_counts)"
      ],
      "metadata": {
        "colab": {
          "base_uri": "https://localhost:8080/"
        },
        "id": "dpU2FiaOReHV",
        "outputId": "a3a9b18b-0e9d-4685-c806-55e6a9e6512d"
      },
      "execution_count": 21,
      "outputs": [
        {
          "output_type": "stream",
          "name": "stdout",
          "text": [
            "{'jpg': 10, 'txt': 14, 'csv': 17, 'py': 23, 'cfg': 8}\n"
          ]
        }
      ]
    },
    {
      "cell_type": "code",
      "source": [
        "file_counts[\"csv\"] = 17\n",
        "print(file_counts)"
      ],
      "metadata": {
        "colab": {
          "base_uri": "https://localhost:8080/"
        },
        "id": "kBU8DbbPSUYk",
        "outputId": "2ce25929-ed44-4b3a-8c7c-27c713f51bf4"
      },
      "execution_count": 22,
      "outputs": [
        {
          "output_type": "stream",
          "name": "stdout",
          "text": [
            "{'jpg': 10, 'txt': 14, 'csv': 17, 'py': 23, 'cfg': 8}\n"
          ]
        }
      ]
    },
    {
      "cell_type": "code",
      "source": [
        "file_counts = {\"jpg\":10, \"txt\":14, \"csv\":2, \"py\":23}\n",
        "for extension in file_counts:\n",
        "  print(extension)"
      ],
      "metadata": {
        "colab": {
          "base_uri": "https://localhost:8080/"
        },
        "id": "mmeNmsDCUPcA",
        "outputId": "e111137e-7dfa-4db1-b376-93d62af577b2"
      },
      "execution_count": 23,
      "outputs": [
        {
          "output_type": "stream",
          "name": "stdout",
          "text": [
            "jpg\n",
            "txt\n",
            "csv\n",
            "py\n"
          ]
        }
      ]
    },
    {
      "cell_type": "code",
      "source": [
        "file_counts = {\"jpg\":10, \"txt\":14, \"csv\":2, \"py\":23}\n",
        "for value in file_counts.values():\n",
        "  print(value)"
      ],
      "metadata": {
        "colab": {
          "base_uri": "https://localhost:8080/"
        },
        "id": "B92NHYjaU9J3",
        "outputId": "1a1b3ff5-5ccb-4ff2-ab6c-c09bff83b270"
      },
      "execution_count": 26,
      "outputs": [
        {
          "output_type": "stream",
          "name": "stdout",
          "text": [
            "10\n",
            "14\n",
            "2\n",
            "23\n"
          ]
        }
      ]
    },
    {
      "cell_type": "code",
      "source": [
        "file_counts = {\"jpg\":10, \"txt\":14, \"csv\":2, \"py\":23}\n",
        "print(file_counts.keys())\n",
        "print(file_counts.values())"
      ],
      "metadata": {
        "colab": {
          "base_uri": "https://localhost:8080/"
        },
        "id": "_zrkdwnZUifx",
        "outputId": "e82afef9-de33-420c-d6ca-e438032b5d29"
      },
      "execution_count": 25,
      "outputs": [
        {
          "output_type": "stream",
          "name": "stdout",
          "text": [
            "dict_keys(['jpg', 'txt', 'csv', 'py'])\n",
            "dict_values([10, 14, 2, 23])\n"
          ]
        }
      ]
    },
    {
      "cell_type": "code",
      "source": [
        "file_counts = {\"jpg\":10, \"txt\":14, \"csv\":2, \"py\":23}\n",
        "for ext, amount in file_counts.items():\n",
        "  print(\"Existen {} archivos con la extensión .{}\".format(amount, ext))"
      ],
      "metadata": {
        "colab": {
          "base_uri": "https://localhost:8080/"
        },
        "id": "YI4KwPAYVRkh",
        "outputId": "4d6d8639-cdec-4f2a-bf3f-4608a74a6dfe"
      },
      "execution_count": 29,
      "outputs": [
        {
          "output_type": "stream",
          "name": "stdout",
          "text": [
            "Existen 10 archivos con la extensión .jpg\n",
            "Existen 14 archivos con la extensión .txt\n",
            "Existen 2 archivos con la extensión .csv\n",
            "Existen 23 archivos con la extensión .py\n"
          ]
        }
      ]
    },
    {
      "cell_type": "markdown",
      "source": [
        "### Diccionario de diccionarios"
      ],
      "metadata": {
        "id": "RnJ0m6kkqb4o"
      }
    },
    {
      "cell_type": "code",
      "source": [
        "estudiantes = {\n",
        "    \"Juan\": {\n",
        "        \"Matemáticas\": 85,\n",
        "        \"Historia\": 90,\n",
        "        \"Biología\": 78\n",
        "    },\n",
        "    \"María\": {\n",
        "        \"Matemáticas\": 92,\n",
        "        \"Historia\": 88,\n",
        "        \"Biología\": 95\n",
        "    },\n",
        "    \"Pedro\": {\n",
        "        \"Matemáticas\": 70,\n",
        "        \"Historia\": 75,\n",
        "        \"Biología\": 80\n",
        "    }\n",
        "}\n",
        "\n"
      ],
      "metadata": {
        "id": "83zAjaboqa_W"
      },
      "execution_count": 13,
      "outputs": []
    },
    {
      "cell_type": "code",
      "source": [
        "# Acceder a los datos\n",
        "print(\"Calificación de Juan en Historia:\", estudiantes[\"Juan\"][\"Historia\"])\n",
        "print(\"Calificación de María en Biología:\", estudiantes[\"María\"][\"Biología\"])\n",
        "\n",
        "# Agregar nueva materia a un estudiante\n",
        "estudiantes[\"Pedro\"][\"Geografía\"] = 82\n",
        "\n",
        "# Recorrer el diccionario\n",
        "for nombre, materias in estudiantes.items():\n",
        "    print(f\"\\nEstudiante: {nombre}\")\n",
        "    for materia, calificacion in materias.items():\n",
        "        print(f\"  {materia}: {calificacion}\")"
      ],
      "metadata": {
        "colab": {
          "base_uri": "https://localhost:8080/"
        },
        "id": "5jGqR0QRrT9G",
        "outputId": "8273aca0-fc0b-432c-f345-04ca566cef8d"
      },
      "execution_count": 14,
      "outputs": [
        {
          "output_type": "stream",
          "name": "stdout",
          "text": [
            "Calificación de Juan en Historia: 90\n",
            "Calificación de María en Biología: 95\n",
            "\n",
            "Estudiante: Juan\n",
            "  Matemáticas: 85\n",
            "  Historia: 90\n",
            "  Biología: 78\n",
            "\n",
            "Estudiante: María\n",
            "  Matemáticas: 92\n",
            "  Historia: 88\n",
            "  Biología: 95\n",
            "\n",
            "Estudiante: Pedro\n",
            "  Matemáticas: 70\n",
            "  Historia: 75\n",
            "  Biología: 80\n",
            "  Geografía: 82\n"
          ]
        }
      ]
    },
    {
      "cell_type": "markdown",
      "source": [
        "### Control de datos introducidos por el usuario"
      ],
      "metadata": {
        "id": "b0E9Ez_xte_5"
      }
    },
    {
      "cell_type": "code",
      "source": [
        "def check(x):\n",
        "    if 25 < x < 50:\n",
        "        print(x, \"es un numero correcto!\")\n",
        "    else:\n",
        "        print(x, \"es un número incorrecto!\")\n",
        "\n",
        "\n",
        "your_int = int(input(\"Introduce el número entero entre 25 y 50: \"))\n",
        "check(your_int)"
      ],
      "metadata": {
        "colab": {
          "base_uri": "https://localhost:8080/"
        },
        "id": "qfQ5SnVWBYRh",
        "outputId": "b32c00f7-d360-450d-9083-fa6115136f2f"
      },
      "execution_count": 4,
      "outputs": [
        {
          "output_type": "stream",
          "name": "stdout",
          "text": [
            "Introduce el número entero entre 25 y 50: 40\n",
            "40 es un numero correcto!\n"
          ]
        }
      ]
    },
    {
      "cell_type": "code",
      "source": [
        "def check(x):\n",
        "    if 25 < x < 50:\n",
        "        print(x, \"es un numero correcto!\")\n",
        "    else:\n",
        "        print(x, \"es un número incorrecto!\")\n",
        "\n",
        "\n",
        "try:\n",
        "    your_int = int(input(\"Introduce un número entero entre 25 y 50: \"))\n",
        "    check(your_int)\n",
        "except ValueError:\n",
        "    print(\"El dato introducido no es un numero entero!\")"
      ],
      "metadata": {
        "colab": {
          "base_uri": "https://localhost:8080/"
        },
        "id": "hjq5_IGzEKjs",
        "outputId": "85dd3215-d9ac-4cf5-8046-ec71a3b552c5"
      },
      "execution_count": 6,
      "outputs": [
        {
          "output_type": "stream",
          "name": "stdout",
          "text": [
            "Introduce un número entero entre 25 y 50: French Toast\n",
            "¡El dato introducido no es un numero entero!\n"
          ]
        }
      ]
    },
    {
      "cell_type": "code",
      "source": [
        "def check_input():\n",
        "    while True:\n",
        "        try:\n",
        "            your_int = int(input(\"Introduce un número entero entre 25 y 50: \"))\n",
        "            if 25 < your_int < 50:\n",
        "                print(your_int, \"es un numero correcto!\")\n",
        "                break\n",
        "            else:\n",
        "                print(your_int, \"es un número incorrecto! '¡Intente otra vez!\")\n",
        "        except ValueError:\n",
        "            print(\"¡El dato introducido no es un numero entero! ¡Intente otra vez!\")\n",
        "\n",
        "check_input()\n",
        ""
      ],
      "metadata": {
        "colab": {
          "base_uri": "https://localhost:8080/"
        },
        "id": "y3ADks_1L6rQ",
        "outputId": "0bdd3b36-4c48-480e-d718-a71da7c573b7"
      },
      "execution_count": 8,
      "outputs": [
        {
          "output_type": "stream",
          "name": "stdout",
          "text": [
            "Introduce un número entero entre 25 y 50: 10\n",
            "10 es un número incorrecto! '¡Intente otra vez!\n",
            "Introduce un número entero entre 25 y 50: French Toast\n",
            "¡El dato introducido no es un numero entero! ¡Intente otra vez!\n",
            "Introduce un número entero entre 25 y 50: 40\n",
            "40 es un numero correcto!\n"
          ]
        }
      ]
    }
  ]
}