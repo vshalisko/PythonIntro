{
  "nbformat": 4,
  "nbformat_minor": 0,
  "metadata": {
    "colab": {
      "provenance": [],
      "authorship_tag": "ABX9TyPRId/Th1g3gB+7F9dnNgte",
      "include_colab_link": true
    },
    "kernelspec": {
      "name": "python3",
      "display_name": "Python 3"
    },
    "language_info": {
      "name": "python"
    }
  },
  "cells": [
    {
      "cell_type": "markdown",
      "metadata": {
        "id": "view-in-github",
        "colab_type": "text"
      },
      "source": [
        "<a href=\"https://colab.research.google.com/github/vshalisko/PythonIntro/blob/main/Unidad_2/Ejemplos_unidad_2.ipynb\" target=\"_parent\"><img src=\"https://colab.research.google.com/assets/colab-badge.svg\" alt=\"Open In Colab\"/></a>"
      ]
    },
    {
      "cell_type": "code",
      "execution_count": null,
      "metadata": {
        "colab": {
          "base_uri": "https://localhost:8080/"
        },
        "id": "L27XOWd216BV",
        "outputId": "b6bca1be-4eaa-4727-8bd8-fed771838892"
      },
      "outputs": [
        {
          "output_type": "stream",
          "name": "stdout",
          "text": [
            "Gracias\n"
          ]
        }
      ],
      "source": [
        "print(\"Gracias\")"
      ]
    },
    {
      "cell_type": "code",
      "source": [
        "nombre = input(\"¿Cuál es tu nombre? \")\n"
      ],
      "metadata": {
        "colab": {
          "base_uri": "https://localhost:8080/"
        },
        "id": "VYaYfz4L3G0e",
        "outputId": "8f503174-27e3-4868-d15e-991548e7cdbd"
      },
      "execution_count": null,
      "outputs": [
        {
          "name": "stdout",
          "output_type": "stream",
          "text": [
            "¿Cuál es tu nombre? Slava\n"
          ]
        }
      ]
    },
    {
      "cell_type": "code",
      "source": [
        "print(type(\"a\"))\n",
        "print(type(2))\n",
        "print(type(2.13))\n",
        "print(type(True))\n"
      ],
      "metadata": {
        "colab": {
          "base_uri": "https://localhost:8080/"
        },
        "id": "WfLkpHRD3O_-",
        "outputId": "ece4e495-9b87-4ebd-ae39-d857edca30c4"
      },
      "execution_count": null,
      "outputs": [
        {
          "output_type": "stream",
          "name": "stdout",
          "text": [
            "<class 'str'>\n",
            "<class 'int'>\n",
            "<class 'float'>\n",
            "<class 'bool'>\n"
          ]
        }
      ]
    },
    {
      "cell_type": "code",
      "source": [
        "nombres = [\"Slava\", \"Gabriela\"]\n",
        "calificaciones = [10, 8, 9.5, 4]\n",
        "\n",
        "print(type(nombres))\n",
        "print(type(calificaciones))\n",
        "\n",
        "print(nombres)\n",
        "print(calificaciones)"
      ],
      "metadata": {
        "colab": {
          "base_uri": "https://localhost:8080/"
        },
        "id": "nP2A11JG4PT3",
        "outputId": "5b8fc547-63a3-47db-d44a-8d8c093cc601"
      },
      "execution_count": null,
      "outputs": [
        {
          "output_type": "stream",
          "name": "stdout",
          "text": [
            "<class 'list'>\n",
            "<class 'list'>\n",
            "['Slava', 'Gabriela']\n",
            "[10, 8, 9.5, 4]\n"
          ]
        }
      ]
    },
    {
      "cell_type": "code",
      "source": [
        "pi = 3.141592\n",
        "r = 12.42\n",
        "area = pi * (r ** 2)\n",
        "print(area)\n"
      ],
      "metadata": {
        "colab": {
          "base_uri": "https://localhost:8080/"
        },
        "id": "WcIgv1H99cbO",
        "outputId": "c135f0d0-8451-43b0-95f1-c6bc38347bda"
      },
      "execution_count": null,
      "outputs": [
        {
          "output_type": "stream",
          "name": "stdout",
          "text": [
            "484.6106721888\n"
          ]
        }
      ]
    },
    {
      "cell_type": "code",
      "source": [
        "horas = 67\n",
        "dias = horas // 24\n",
        "horas_residuo = horas % 24\n",
        "print(f\"{horas} horas equivalen a {dias} dias y {horas_residuo} horas\")"
      ],
      "metadata": {
        "colab": {
          "base_uri": "https://localhost:8080/"
        },
        "id": "L4bHBeGxrwe_",
        "outputId": "f332a7d3-c26b-415e-a34f-8d14c78e013d"
      },
      "execution_count": null,
      "outputs": [
        {
          "output_type": "stream",
          "name": "stdout",
          "text": [
            "67 horas equivalen a 2 dias y 19 horas\n"
          ]
        }
      ]
    },
    {
      "cell_type": "code",
      "source": [
        "numero = -2\n",
        "\n",
        "if numero > 0:\n",
        "    print(\"El número es positivo\")\n",
        "elif numero < 0:\n",
        "    print(\"El número es negativo\")\n",
        "else:\n",
        "    print(\"El número es cero\")\n"
      ],
      "metadata": {
        "colab": {
          "base_uri": "https://localhost:8080/"
        },
        "id": "MBbfNGwz7p1B",
        "outputId": "fa68ed38-f34a-44a8-bfbe-2049668e4d22"
      },
      "execution_count": null,
      "outputs": [
        {
          "output_type": "stream",
          "name": "stdout",
          "text": [
            "El número es negativo\n"
          ]
        }
      ]
    },
    {
      "cell_type": "code",
      "source": [
        "# Definición de variables con el operador de asignación\n",
        "# y uso de expresiones para calcular los valores\n",
        "cuarto_hotel = 1200\n",
        "impuesto = cuarto_hotel * 0.16\n",
        "total = cuarto_hotel + impuesto\n",
        "huespedes = 4\n",
        "cuota_por_huesped = total / huespedes\n",
        "\n",
        "\n",
        "# La linea a continuación permite imprimir el mensaje\n",
        "# con valor de precio del hotel por persona\n",
        "print(\"Cada huesped pagará: \" + str(cuota_por_huesped) + \" pesos\")"
      ],
      "metadata": {
        "colab": {
          "base_uri": "https://localhost:8080/"
        },
        "id": "b2HqOfK-NQsd",
        "outputId": "429b835c-4097-43ea-eb75-c01f4b94acd7"
      },
      "execution_count": null,
      "outputs": [
        {
          "output_type": "stream",
          "name": "stdout",
          "text": [
            "Cada huesped pagará: 348.0 pesos\n"
          ]
        }
      ]
    },
    {
      "cell_type": "code",
      "source": [
        "def saludo(nombre, campus):\n",
        "    print(\"\\nBienvenidos, \" + nombre)\n",
        "    print(\"Su campus es \" + campus)\n",
        "\n",
        "saludo(\"Slava\", \"CUCBA\")\n",
        "saludo(\"Ivan\", \"CUCSH\")"
      ],
      "metadata": {
        "colab": {
          "base_uri": "https://localhost:8080/"
        },
        "id": "QTTFW5soQhlD",
        "outputId": "d4ffc6f0-3bd8-4470-d410-544944e01d16"
      },
      "execution_count": null,
      "outputs": [
        {
          "output_type": "stream",
          "name": "stdout",
          "text": [
            "\n",
            "Bienvenidos, Slava\n",
            "Su campus es CUCBA\n",
            "\n",
            "Bienvenidos, Ivan\n",
            "Su campus es CUCSH\n"
          ]
        }
      ]
    },
    {
      "cell_type": "code",
      "source": [
        "def celsius_a_fahrenheit(celsius):\n",
        "    fahrenheit = (celsius * 9/5) + 32\n",
        "    return fahrenheit\n",
        "\n",
        "t_celsius = 25\n",
        "t_fahrenheit = celsius_a_fahrenheit(t_celsius)\n",
        "print(t_fahrenheit)"
      ],
      "metadata": {
        "colab": {
          "base_uri": "https://localhost:8080/"
        },
        "id": "cZjKHkncUMWc",
        "outputId": "0794aa2d-6fc4-4275-b139-7e64c040e212"
      },
      "execution_count": null,
      "outputs": [
        {
          "output_type": "stream",
          "name": "stdout",
          "text": [
            "77.0\n"
          ]
        }
      ]
    },
    {
      "cell_type": "code",
      "source": [
        "def imprime_separador():\n",
        "  print(\"-\" * 30)\n",
        "\n",
        "imprime_separador()\n",
        "print(\"Hola\")\n",
        "imprime_separador()\n",
        "\n"
      ],
      "metadata": {
        "colab": {
          "base_uri": "https://localhost:8080/"
        },
        "id": "Gu7XmNKQVZiU",
        "outputId": "8f71f1c4-1c30-41f1-f8ad-bca78ed57f8f"
      },
      "execution_count": null,
      "outputs": [
        {
          "output_type": "stream",
          "name": "stdout",
          "text": [
            "------------------------------\n",
            "Hola\n",
            "------------------------------\n"
          ]
        }
      ]
    },
    {
      "cell_type": "code",
      "source": [
        "numero_patas = int(input(\"¿Cuántas patas tiene el animal? \"))\n",
        "\n",
        "# Responde según el número de patas.\n",
        "if numero_patas == 6:\n",
        "  print(\"¡Ese es un insecto!\")\n",
        "elif numero_patas == 8:\n",
        "  print(\"¡Esa es una araña!\")\n",
        "elif numero_patas == 4:\n",
        "  print(\"Podría ser un caballo u otro mamífero de cuatro patas.\")\n",
        "elif numero_patas == 2:\n",
        "  print(\"¡Ese es un ave!\")\n",
        "else:\n",
        "  print(\"No sé qué animal es con esa cantidad de patas.\")"
      ],
      "metadata": {
        "colab": {
          "base_uri": "https://localhost:8080/"
        },
        "id": "W8bZqk3VaZis",
        "outputId": "a7885e4e-486d-4920-eb15-b2775e1be74a"
      },
      "execution_count": null,
      "outputs": [
        {
          "output_type": "stream",
          "name": "stdout",
          "text": [
            "¿Cuántas patas tiene el animal? 4\n",
            "Podría ser un caballo u otro mamífero de cuatro patas.\n"
          ]
        }
      ]
    },
    {
      "cell_type": "code",
      "source": [
        "def verificar_nombre(username):\n",
        "    if len(username) < 3:\n",
        "        print(\"Nombre de usuario incorrecto. Debe tener por lo menos 3 símbolos.\")\n",
        "    elif len(username) > 15:\n",
        "        print(\"Nombre de usuario incorrecto. Debe tener como máximo 15 símbolos.\")\n",
        "    else:\n",
        "        print(\"Nombre de usuario correcto.\")\n",
        "\n",
        "verificar_nombre(\"Iv\")\n",
        "verificar_nombre(\"Ivan\")\n",
        "verificar_nombre(\"Tlahuizcalpantecuhtli\")\n"
      ],
      "metadata": {
        "colab": {
          "base_uri": "https://localhost:8080/"
        },
        "id": "Lfza4h-PWAAz",
        "outputId": "63390e26-cec6-4df9-b07b-6c03980560c8"
      },
      "execution_count": null,
      "outputs": [
        {
          "output_type": "stream",
          "name": "stdout",
          "text": [
            "Nombre de usuario incorrecto. Debe tener por lo menos 3 símbolos.\n",
            "Nombre de usuario correcto.\n",
            "Nombre de usuario incorrecto. Debe tener como máximo 15 símbolos.\n"
          ]
        }
      ]
    },
    {
      "cell_type": "code",
      "source": [
        "contador = 0\n",
        "while contador < 10:\n",
        "    print(contador)\n",
        "    contador += 1"
      ],
      "metadata": {
        "colab": {
          "base_uri": "https://localhost:8080/"
        },
        "id": "cZdoyW50tNuZ",
        "outputId": "cf20ff13-bb1f-40fb-c122-57a68010bf8a"
      },
      "execution_count": null,
      "outputs": [
        {
          "output_type": "stream",
          "name": "stdout",
          "text": [
            "0\n",
            "1\n",
            "2\n",
            "3\n",
            "4\n",
            "5\n",
            "6\n",
            "7\n",
            "8\n",
            "9\n"
          ]
        }
      ]
    },
    {
      "cell_type": "code",
      "source": [
        "resultado = 100\n",
        "while resultado > 3:\n",
        "    print(resultado)\n",
        "    resultado = resultado / 2"
      ],
      "metadata": {
        "colab": {
          "base_uri": "https://localhost:8080/"
        },
        "id": "-jZn6bOUlapn",
        "outputId": "0e15fac1-251a-465e-8ca6-2c5e36d0f6cd"
      },
      "execution_count": null,
      "outputs": [
        {
          "output_type": "stream",
          "name": "stdout",
          "text": [
            "100\n",
            "50.0\n",
            "25.0\n",
            "12.5\n",
            "6.25\n",
            "3.125\n"
          ]
        }
      ]
    },
    {
      "cell_type": "code",
      "source": [
        "while True:\n",
        "  print(\"Adivina mi ciudad\")\n",
        "  ciudad = str(input(\"Mi ciudad es: \"))\n",
        "  if ciudad == \"Guadalajara\":\n",
        "    print(\"¡Adivinaste!\")\n",
        "    break\n",
        "  print(\"¡No adivinaste! Intenta de nuevo\")\n",
        "\n"
      ],
      "metadata": {
        "colab": {
          "base_uri": "https://localhost:8080/"
        },
        "id": "6m7UgWQvnNcg",
        "outputId": "49c0d0db-fa29-40bb-86f8-32f410729d51"
      },
      "execution_count": null,
      "outputs": [
        {
          "output_type": "stream",
          "name": "stdout",
          "text": [
            "Adivina mi ciudad\n",
            "Mi ciudad es: Moscú\n",
            "¡No adivinaste! Intenta de nuevo\n",
            "Adivina mi ciudad\n",
            "Mi ciudad es: Guadalajara\n",
            "¡Adivinaste!\n"
          ]
        }
      ]
    },
    {
      "cell_type": "code",
      "source": [
        "# Ejemplo de bucle for\n",
        "numeros = [1, 2, 3, 4, 5]\n",
        "\n",
        "for numero in numeros:\n",
        "    print(f\"El número es: {numero}\")"
      ],
      "metadata": {
        "colab": {
          "base_uri": "https://localhost:8080/"
        },
        "id": "pPQ6Tm4Qooy3",
        "outputId": "dc904bee-273b-44db-9cf0-7b104e147c46"
      },
      "execution_count": null,
      "outputs": [
        {
          "output_type": "stream",
          "name": "stdout",
          "text": [
            "El número es: 1\n",
            "El número es: 2\n",
            "El número es: 3\n",
            "El número es: 4\n",
            "El número es: 5\n"
          ]
        }
      ]
    },
    {
      "cell_type": "code",
      "source": [
        "for i in \"Universidad\":\n",
        "  print(f\"{i}\")"
      ],
      "metadata": {
        "colab": {
          "base_uri": "https://localhost:8080/"
        },
        "id": "UxBxVIziqxn4",
        "outputId": "3277daec-b6b7-4adb-87d8-c99ebdcba108"
      },
      "execution_count": null,
      "outputs": [
        {
          "output_type": "stream",
          "name": "stdout",
          "text": [
            "U\n",
            "n\n",
            "i\n",
            "v\n",
            "e\n",
            "r\n",
            "s\n",
            "i\n",
            "d\n",
            "a\n",
            "d\n"
          ]
        }
      ]
    },
    {
      "cell_type": "code",
      "source": [
        "for i in range(10, 101, 10):\n",
        "  print(f\"{i}\")"
      ],
      "metadata": {
        "colab": {
          "base_uri": "https://localhost:8080/"
        },
        "id": "PD-7I5S2rXvG",
        "outputId": "25cb4537-8642-472a-d7eb-6339802804cc"
      },
      "execution_count": null,
      "outputs": [
        {
          "output_type": "stream",
          "name": "stdout",
          "text": [
            "10\n",
            "20\n",
            "30\n",
            "40\n",
            "50\n",
            "60\n",
            "70\n",
            "80\n",
            "90\n",
            "100\n"
          ]
        }
      ]
    }
  ]
}