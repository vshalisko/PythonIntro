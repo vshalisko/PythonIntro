{
  "nbformat": 4,
  "nbformat_minor": 0,
  "metadata": {
    "colab": {
      "provenance": [],
      "authorship_tag": "ABX9TyP0GpGmYE0oX0mSri8CKm3M",
      "include_colab_link": true
    },
    "kernelspec": {
      "name": "python3",
      "display_name": "Python 3"
    },
    "language_info": {
      "name": "python"
    }
  },
  "cells": [
    {
      "cell_type": "markdown",
      "metadata": {
        "id": "view-in-github",
        "colab_type": "text"
      },
      "source": [
        "<a href=\"https://colab.research.google.com/github/vshalisko/PythonIntro/blob/main/Unidad_2/Proyecto_2_plantilla.ipynb\" target=\"_parent\"><img src=\"https://colab.research.google.com/assets/colab-badge.svg\" alt=\"Open In Colab\"/></a>"
      ]
    },
    {
      "cell_type": "markdown",
      "source": [
        "A continuacion se incluye un fragmento de código que permite descargar un archivo JSON con datos de curso de cambio de una divisa (**mxn**), y convertirla en diccionario de diccionarios.\n",
        "\n",
        "Nota: El codigo presentado abajo es solo un aplantilla, se requiere extender y modificarlo para cumplir con los lineamienots del ejercicio."
      ],
      "metadata": {
        "id": "cWPfS1Ffl8eK"
      }
    },
    {
      "cell_type": "code",
      "execution_count": 1,
      "metadata": {
        "id": "W8opchc2lSDR"
      },
      "outputs": [],
      "source": [
        "import json\n",
        "import requests\n",
        "\n",
        "def currency_search(cur):\n",
        "    r = requests.get(\"http://www.floatrates.com/daily/{}.json\".format(cur))\n",
        "    return r.text\n",
        "\n",
        "exchange_file = currency_search(\"mxn\")\n",
        "exchange_dict = json.loads(exchange_file)\n"
      ]
    },
    {
      "cell_type": "markdown",
      "source": [
        "Consulta de una entrada del diccionario para divisa **usd**"
      ],
      "metadata": {
        "id": "YTDviEPkmsbD"
      }
    },
    {
      "cell_type": "code",
      "source": [
        "# acceder a una parte de diccionario\n",
        "print(exchange_dict[\"usd\"])\n",
        "\n",
        "# imprimir us contenido en un formato más amigable\n",
        "print(json.dumps(exchange_dict[\"usd\"], indent=4))\n"
      ],
      "metadata": {
        "colab": {
          "base_uri": "https://localhost:8080/"
        },
        "id": "59CYBYwClmEg",
        "outputId": "89512a53-90f0-4b2b-aa69-8974031ce507"
      },
      "execution_count": 6,
      "outputs": [
        {
          "output_type": "stream",
          "name": "stdout",
          "text": [
            "{'code': 'USD', 'alphaCode': 'USD', 'numericCode': '840', 'name': 'U.S. Dollar', 'rate': 0.054746102951973, 'date': 'Wed, 1 Oct 2025 19:55:16 GMT', 'inverseRate': 18.266140347511}\n",
            "{\n",
            "    \"code\": \"USD\",\n",
            "    \"alphaCode\": \"USD\",\n",
            "    \"numericCode\": \"840\",\n",
            "    \"name\": \"U.S. Dollar\",\n",
            "    \"rate\": 0.054746102951973,\n",
            "    \"date\": \"Wed, 1 Oct 2025 19:55:16 GMT\",\n",
            "    \"inverseRate\": 18.266140347511\n",
            "}\n"
          ]
        }
      ]
    }
  ]
}